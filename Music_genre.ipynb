{
 "cells": [
  {
   "cell_type": "markdown",
   "id": "435d1a4c",
   "metadata": {},
   "source": [
    "# Music Genre Prediction using Machine Learning\n",
    "\n",
    "This dataset holds data more than 50000 songs, each described with 18 features.The focus is put on interpreting classification results"
   ]
  },
  {
   "cell_type": "markdown",
   "id": "3e72dbc2",
   "metadata": {},
   "source": [
    "The work follows the standard approach; load, explore, and clean the data(EDA), pre-process, search for the best performing hyper-parameters, feeding data through the chosen algorithm, model evaluation, and interpretation "
   ]
  },
  {
   "cell_type": "markdown",
   "id": "8c3b61a9",
   "metadata": {},
   "source": [
    "# Importing "
   ]
  },
  {
   "cell_type": "code",
   "execution_count": 9,
   "id": "674caa48",
   "metadata": {},
   "outputs": [],
   "source": [
    "%matplotlib inline"
   ]
  },
  {
   "cell_type": "code",
   "execution_count": 10,
   "id": "0115b321",
   "metadata": {},
   "outputs": [],
   "source": [
    "import numpy as np\n",
    "import pandas as pd\n",
    "import matplotlib.pyplot as plt\n",
    "import seaborn as sns"
   ]
  },
  {
   "cell_type": "code",
   "execution_count": 11,
   "id": "857eb0bd",
   "metadata": {},
   "outputs": [],
   "source": [
    "from sklearn.preprocessing import LabelEncoder\n",
    "from sklearn.preprocessing import StandardScaler\n",
    "from sklearn.model_selection import train_test_split\n",
    "from sklearn.model_selection import GridSearchCV\n",
    "from sklearn.ensemble import RandomForestClassifier\n",
    "from sklearn.metrics import make_scorer, f1_score, accuracy_score, confusion_matrix, classification_report\n",
    "from sklearn.metrics import roc_curve, roc_auc_score"
   ]
  },
  {
   "cell_type": "markdown",
   "id": "d46aa91b",
   "metadata": {},
   "source": [
    "# I. Load data\n"
   ]
  },
  {
   "cell_type": "code",
   "execution_count": 12,
   "id": "74a78333",
   "metadata": {},
   "outputs": [
    {
     "data": {
      "text/html": [
       "<div>\n",
       "<style scoped>\n",
       "    .dataframe tbody tr th:only-of-type {\n",
       "        vertical-align: middle;\n",
       "    }\n",
       "\n",
       "    .dataframe tbody tr th {\n",
       "        vertical-align: top;\n",
       "    }\n",
       "\n",
       "    .dataframe thead th {\n",
       "        text-align: right;\n",
       "    }\n",
       "</style>\n",
       "<table border=\"1\" class=\"dataframe\">\n",
       "  <thead>\n",
       "    <tr style=\"text-align: right;\">\n",
       "      <th></th>\n",
       "      <th>instance_id</th>\n",
       "      <th>artist_name</th>\n",
       "      <th>track_name</th>\n",
       "      <th>popularity</th>\n",
       "      <th>acousticness</th>\n",
       "      <th>danceability</th>\n",
       "      <th>duration_ms</th>\n",
       "      <th>energy</th>\n",
       "      <th>instrumentalness</th>\n",
       "      <th>key</th>\n",
       "      <th>liveness</th>\n",
       "      <th>loudness</th>\n",
       "      <th>mode</th>\n",
       "      <th>speechiness</th>\n",
       "      <th>tempo</th>\n",
       "      <th>obtained_date</th>\n",
       "      <th>valence</th>\n",
       "      <th>music_genre</th>\n",
       "    </tr>\n",
       "  </thead>\n",
       "  <tbody>\n",
       "    <tr>\n",
       "      <th>0</th>\n",
       "      <td>32894.0</td>\n",
       "      <td>Röyksopp</td>\n",
       "      <td>Röyksopp's Night Out</td>\n",
       "      <td>27.0</td>\n",
       "      <td>0.00468</td>\n",
       "      <td>0.652</td>\n",
       "      <td>-1.0</td>\n",
       "      <td>0.941</td>\n",
       "      <td>0.79200</td>\n",
       "      <td>A#</td>\n",
       "      <td>0.115</td>\n",
       "      <td>-5.201</td>\n",
       "      <td>Minor</td>\n",
       "      <td>0.0748</td>\n",
       "      <td>100.889</td>\n",
       "      <td>4-Apr</td>\n",
       "      <td>0.759</td>\n",
       "      <td>Electronic</td>\n",
       "    </tr>\n",
       "    <tr>\n",
       "      <th>1</th>\n",
       "      <td>46652.0</td>\n",
       "      <td>Thievery Corporation</td>\n",
       "      <td>The Shining Path</td>\n",
       "      <td>31.0</td>\n",
       "      <td>0.01270</td>\n",
       "      <td>0.622</td>\n",
       "      <td>218293.0</td>\n",
       "      <td>0.890</td>\n",
       "      <td>0.95000</td>\n",
       "      <td>D</td>\n",
       "      <td>0.124</td>\n",
       "      <td>-7.043</td>\n",
       "      <td>Minor</td>\n",
       "      <td>0.0300</td>\n",
       "      <td>115.00200000000001</td>\n",
       "      <td>4-Apr</td>\n",
       "      <td>0.531</td>\n",
       "      <td>Electronic</td>\n",
       "    </tr>\n",
       "    <tr>\n",
       "      <th>2</th>\n",
       "      <td>30097.0</td>\n",
       "      <td>Dillon Francis</td>\n",
       "      <td>Hurricane</td>\n",
       "      <td>28.0</td>\n",
       "      <td>0.00306</td>\n",
       "      <td>0.620</td>\n",
       "      <td>215613.0</td>\n",
       "      <td>0.755</td>\n",
       "      <td>0.01180</td>\n",
       "      <td>G#</td>\n",
       "      <td>0.534</td>\n",
       "      <td>-4.617</td>\n",
       "      <td>Major</td>\n",
       "      <td>0.0345</td>\n",
       "      <td>127.994</td>\n",
       "      <td>4-Apr</td>\n",
       "      <td>0.333</td>\n",
       "      <td>Electronic</td>\n",
       "    </tr>\n",
       "    <tr>\n",
       "      <th>3</th>\n",
       "      <td>62177.0</td>\n",
       "      <td>Dubloadz</td>\n",
       "      <td>Nitro</td>\n",
       "      <td>34.0</td>\n",
       "      <td>0.02540</td>\n",
       "      <td>0.774</td>\n",
       "      <td>166875.0</td>\n",
       "      <td>0.700</td>\n",
       "      <td>0.00253</td>\n",
       "      <td>C#</td>\n",
       "      <td>0.157</td>\n",
       "      <td>-4.498</td>\n",
       "      <td>Major</td>\n",
       "      <td>0.2390</td>\n",
       "      <td>128.014</td>\n",
       "      <td>4-Apr</td>\n",
       "      <td>0.270</td>\n",
       "      <td>Electronic</td>\n",
       "    </tr>\n",
       "    <tr>\n",
       "      <th>4</th>\n",
       "      <td>24907.0</td>\n",
       "      <td>What So Not</td>\n",
       "      <td>Divide &amp; Conquer</td>\n",
       "      <td>32.0</td>\n",
       "      <td>0.00465</td>\n",
       "      <td>0.638</td>\n",
       "      <td>222369.0</td>\n",
       "      <td>0.587</td>\n",
       "      <td>0.90900</td>\n",
       "      <td>F#</td>\n",
       "      <td>0.157</td>\n",
       "      <td>-6.266</td>\n",
       "      <td>Major</td>\n",
       "      <td>0.0413</td>\n",
       "      <td>145.036</td>\n",
       "      <td>4-Apr</td>\n",
       "      <td>0.323</td>\n",
       "      <td>Electronic</td>\n",
       "    </tr>\n",
       "  </tbody>\n",
       "</table>\n",
       "</div>"
      ],
      "text/plain": [
       "   instance_id           artist_name            track_name  popularity  \\\n",
       "0      32894.0              Röyksopp  Röyksopp's Night Out        27.0   \n",
       "1      46652.0  Thievery Corporation      The Shining Path        31.0   \n",
       "2      30097.0        Dillon Francis             Hurricane        28.0   \n",
       "3      62177.0              Dubloadz                 Nitro        34.0   \n",
       "4      24907.0           What So Not      Divide & Conquer        32.0   \n",
       "\n",
       "   acousticness  danceability  duration_ms  energy  instrumentalness key  \\\n",
       "0       0.00468         0.652         -1.0   0.941           0.79200  A#   \n",
       "1       0.01270         0.622     218293.0   0.890           0.95000   D   \n",
       "2       0.00306         0.620     215613.0   0.755           0.01180  G#   \n",
       "3       0.02540         0.774     166875.0   0.700           0.00253  C#   \n",
       "4       0.00465         0.638     222369.0   0.587           0.90900  F#   \n",
       "\n",
       "   liveness  loudness   mode  speechiness               tempo obtained_date  \\\n",
       "0     0.115    -5.201  Minor       0.0748             100.889         4-Apr   \n",
       "1     0.124    -7.043  Minor       0.0300  115.00200000000001         4-Apr   \n",
       "2     0.534    -4.617  Major       0.0345             127.994         4-Apr   \n",
       "3     0.157    -4.498  Major       0.2390             128.014         4-Apr   \n",
       "4     0.157    -6.266  Major       0.0413             145.036         4-Apr   \n",
       "\n",
       "   valence music_genre  \n",
       "0    0.759  Electronic  \n",
       "1    0.531  Electronic  \n",
       "2    0.333  Electronic  \n",
       "3    0.270  Electronic  \n",
       "4    0.323  Electronic  "
      ]
     },
     "execution_count": 12,
     "metadata": {},
     "output_type": "execute_result"
    }
   ],
   "source": [
    "music = pd.read_csv('music_genre.csv')\n",
    "music.head()"
   ]
  },
  {
   "cell_type": "markdown",
   "id": "47eb4033",
   "metadata": {},
   "source": [
    "# II. Explore and clean Data\n",
    "The code line below shows that there are 50005 entries in the dataset, each describe with 18 features"
   ]
  },
  {
   "cell_type": "code",
   "execution_count": 13,
   "id": "9f8affd7",
   "metadata": {},
   "outputs": [
    {
     "data": {
      "text/plain": [
       "(50005, 18)"
      ]
     },
     "execution_count": 13,
     "metadata": {},
     "output_type": "execute_result"
    }
   ],
   "source": [
    "music.shape"
   ]
  },
  {
   "cell_type": "markdown",
   "id": "68520417",
   "metadata": {},
   "source": [
    "# II.1. Removing duplicates"
   ]
  },
  {
   "cell_type": "code",
   "execution_count": 14,
   "id": "d788572d",
   "metadata": {},
   "outputs": [
    {
     "data": {
      "text/plain": [
       "True"
      ]
     },
     "execution_count": 14,
     "metadata": {},
     "output_type": "execute_result"
    }
   ],
   "source": [
    "music.duplicated().any()\n"
   ]
  },
  {
   "cell_type": "code",
   "execution_count": 15,
   "id": "9b0bd44c",
   "metadata": {},
   "outputs": [],
   "source": [
    "duplicated = music.duplicated()"
   ]
  },
  {
   "cell_type": "markdown",
   "id": "5948cee4",
   "metadata": {},
   "source": [
    "Duplicated rows are shown as follows, there are 4 lines holding NaN values"
   ]
  },
  {
   "cell_type": "code",
   "execution_count": 16,
   "id": "ee1ef1af",
   "metadata": {},
   "outputs": [
    {
     "data": {
      "text/html": [
       "<div>\n",
       "<style scoped>\n",
       "    .dataframe tbody tr th:only-of-type {\n",
       "        vertical-align: middle;\n",
       "    }\n",
       "\n",
       "    .dataframe tbody tr th {\n",
       "        vertical-align: top;\n",
       "    }\n",
       "\n",
       "    .dataframe thead th {\n",
       "        text-align: right;\n",
       "    }\n",
       "</style>\n",
       "<table border=\"1\" class=\"dataframe\">\n",
       "  <thead>\n",
       "    <tr style=\"text-align: right;\">\n",
       "      <th></th>\n",
       "      <th>instance_id</th>\n",
       "      <th>artist_name</th>\n",
       "      <th>track_name</th>\n",
       "      <th>popularity</th>\n",
       "      <th>acousticness</th>\n",
       "      <th>danceability</th>\n",
       "      <th>duration_ms</th>\n",
       "      <th>energy</th>\n",
       "      <th>instrumentalness</th>\n",
       "      <th>key</th>\n",
       "      <th>liveness</th>\n",
       "      <th>loudness</th>\n",
       "      <th>mode</th>\n",
       "      <th>speechiness</th>\n",
       "      <th>tempo</th>\n",
       "      <th>obtained_date</th>\n",
       "      <th>valence</th>\n",
       "      <th>music_genre</th>\n",
       "    </tr>\n",
       "  </thead>\n",
       "  <tbody>\n",
       "    <tr>\n",
       "      <th>10001</th>\n",
       "      <td>NaN</td>\n",
       "      <td>NaN</td>\n",
       "      <td>NaN</td>\n",
       "      <td>NaN</td>\n",
       "      <td>NaN</td>\n",
       "      <td>NaN</td>\n",
       "      <td>NaN</td>\n",
       "      <td>NaN</td>\n",
       "      <td>NaN</td>\n",
       "      <td>NaN</td>\n",
       "      <td>NaN</td>\n",
       "      <td>NaN</td>\n",
       "      <td>NaN</td>\n",
       "      <td>NaN</td>\n",
       "      <td>NaN</td>\n",
       "      <td>NaN</td>\n",
       "      <td>NaN</td>\n",
       "      <td>NaN</td>\n",
       "    </tr>\n",
       "    <tr>\n",
       "      <th>10002</th>\n",
       "      <td>NaN</td>\n",
       "      <td>NaN</td>\n",
       "      <td>NaN</td>\n",
       "      <td>NaN</td>\n",
       "      <td>NaN</td>\n",
       "      <td>NaN</td>\n",
       "      <td>NaN</td>\n",
       "      <td>NaN</td>\n",
       "      <td>NaN</td>\n",
       "      <td>NaN</td>\n",
       "      <td>NaN</td>\n",
       "      <td>NaN</td>\n",
       "      <td>NaN</td>\n",
       "      <td>NaN</td>\n",
       "      <td>NaN</td>\n",
       "      <td>NaN</td>\n",
       "      <td>NaN</td>\n",
       "      <td>NaN</td>\n",
       "    </tr>\n",
       "    <tr>\n",
       "      <th>10003</th>\n",
       "      <td>NaN</td>\n",
       "      <td>NaN</td>\n",
       "      <td>NaN</td>\n",
       "      <td>NaN</td>\n",
       "      <td>NaN</td>\n",
       "      <td>NaN</td>\n",
       "      <td>NaN</td>\n",
       "      <td>NaN</td>\n",
       "      <td>NaN</td>\n",
       "      <td>NaN</td>\n",
       "      <td>NaN</td>\n",
       "      <td>NaN</td>\n",
       "      <td>NaN</td>\n",
       "      <td>NaN</td>\n",
       "      <td>NaN</td>\n",
       "      <td>NaN</td>\n",
       "      <td>NaN</td>\n",
       "      <td>NaN</td>\n",
       "    </tr>\n",
       "    <tr>\n",
       "      <th>10004</th>\n",
       "      <td>NaN</td>\n",
       "      <td>NaN</td>\n",
       "      <td>NaN</td>\n",
       "      <td>NaN</td>\n",
       "      <td>NaN</td>\n",
       "      <td>NaN</td>\n",
       "      <td>NaN</td>\n",
       "      <td>NaN</td>\n",
       "      <td>NaN</td>\n",
       "      <td>NaN</td>\n",
       "      <td>NaN</td>\n",
       "      <td>NaN</td>\n",
       "      <td>NaN</td>\n",
       "      <td>NaN</td>\n",
       "      <td>NaN</td>\n",
       "      <td>NaN</td>\n",
       "      <td>NaN</td>\n",
       "      <td>NaN</td>\n",
       "    </tr>\n",
       "  </tbody>\n",
       "</table>\n",
       "</div>"
      ],
      "text/plain": [
       "       instance_id artist_name track_name  popularity  acousticness  \\\n",
       "10001          NaN         NaN        NaN         NaN           NaN   \n",
       "10002          NaN         NaN        NaN         NaN           NaN   \n",
       "10003          NaN         NaN        NaN         NaN           NaN   \n",
       "10004          NaN         NaN        NaN         NaN           NaN   \n",
       "\n",
       "       danceability  duration_ms  energy  instrumentalness  key  liveness  \\\n",
       "10001           NaN          NaN     NaN               NaN  NaN       NaN   \n",
       "10002           NaN          NaN     NaN               NaN  NaN       NaN   \n",
       "10003           NaN          NaN     NaN               NaN  NaN       NaN   \n",
       "10004           NaN          NaN     NaN               NaN  NaN       NaN   \n",
       "\n",
       "       loudness mode  speechiness tempo obtained_date  valence music_genre  \n",
       "10001       NaN  NaN          NaN   NaN           NaN      NaN         NaN  \n",
       "10002       NaN  NaN          NaN   NaN           NaN      NaN         NaN  \n",
       "10003       NaN  NaN          NaN   NaN           NaN      NaN         NaN  \n",
       "10004       NaN  NaN          NaN   NaN           NaN      NaN         NaN  "
      ]
     },
     "execution_count": 16,
     "metadata": {},
     "output_type": "execute_result"
    }
   ],
   "source": [
    "music[duplicated]"
   ]
  },
  {
   "cell_type": "markdown",
   "id": "3ddea764",
   "metadata": {},
   "source": [
    "The code line below loads the entries above and below NaN containing samples to double check for duplicated rows. It validates the identity of samples 10000, 10001, 10002, 10003, and 10004. These are not just repeated, but also contain only NaNs. As a result, they have been removed."
   ]
  },
  {
   "cell_type": "code",
   "execution_count": 17,
   "id": "e0ff7636",
   "metadata": {},
   "outputs": [
    {
     "data": {
      "text/html": [
       "<div>\n",
       "<style scoped>\n",
       "    .dataframe tbody tr th:only-of-type {\n",
       "        vertical-align: middle;\n",
       "    }\n",
       "\n",
       "    .dataframe tbody tr th {\n",
       "        vertical-align: top;\n",
       "    }\n",
       "\n",
       "    .dataframe thead th {\n",
       "        text-align: right;\n",
       "    }\n",
       "</style>\n",
       "<table border=\"1\" class=\"dataframe\">\n",
       "  <thead>\n",
       "    <tr style=\"text-align: right;\">\n",
       "      <th></th>\n",
       "      <th>instance_id</th>\n",
       "      <th>artist_name</th>\n",
       "      <th>track_name</th>\n",
       "      <th>popularity</th>\n",
       "      <th>acousticness</th>\n",
       "      <th>danceability</th>\n",
       "      <th>duration_ms</th>\n",
       "      <th>energy</th>\n",
       "      <th>instrumentalness</th>\n",
       "      <th>key</th>\n",
       "      <th>liveness</th>\n",
       "      <th>loudness</th>\n",
       "      <th>mode</th>\n",
       "      <th>speechiness</th>\n",
       "      <th>tempo</th>\n",
       "      <th>obtained_date</th>\n",
       "      <th>valence</th>\n",
       "      <th>music_genre</th>\n",
       "    </tr>\n",
       "  </thead>\n",
       "  <tbody>\n",
       "    <tr>\n",
       "      <th>9999</th>\n",
       "      <td>41509.0</td>\n",
       "      <td>Hachioji P</td>\n",
       "      <td>Yeah! Yeah!! Yeah!!!</td>\n",
       "      <td>14.0</td>\n",
       "      <td>0.02000</td>\n",
       "      <td>0.573</td>\n",
       "      <td>226374.0</td>\n",
       "      <td>0.921</td>\n",
       "      <td>0.000004</td>\n",
       "      <td>F#</td>\n",
       "      <td>0.325</td>\n",
       "      <td>-3.841</td>\n",
       "      <td>Major</td>\n",
       "      <td>0.0734</td>\n",
       "      <td>135.029</td>\n",
       "      <td>4-Apr</td>\n",
       "      <td>0.599</td>\n",
       "      <td>Anime</td>\n",
       "    </tr>\n",
       "    <tr>\n",
       "      <th>10000</th>\n",
       "      <td>NaN</td>\n",
       "      <td>NaN</td>\n",
       "      <td>NaN</td>\n",
       "      <td>NaN</td>\n",
       "      <td>NaN</td>\n",
       "      <td>NaN</td>\n",
       "      <td>NaN</td>\n",
       "      <td>NaN</td>\n",
       "      <td>NaN</td>\n",
       "      <td>NaN</td>\n",
       "      <td>NaN</td>\n",
       "      <td>NaN</td>\n",
       "      <td>NaN</td>\n",
       "      <td>NaN</td>\n",
       "      <td>NaN</td>\n",
       "      <td>NaN</td>\n",
       "      <td>NaN</td>\n",
       "      <td>NaN</td>\n",
       "    </tr>\n",
       "    <tr>\n",
       "      <th>10001</th>\n",
       "      <td>NaN</td>\n",
       "      <td>NaN</td>\n",
       "      <td>NaN</td>\n",
       "      <td>NaN</td>\n",
       "      <td>NaN</td>\n",
       "      <td>NaN</td>\n",
       "      <td>NaN</td>\n",
       "      <td>NaN</td>\n",
       "      <td>NaN</td>\n",
       "      <td>NaN</td>\n",
       "      <td>NaN</td>\n",
       "      <td>NaN</td>\n",
       "      <td>NaN</td>\n",
       "      <td>NaN</td>\n",
       "      <td>NaN</td>\n",
       "      <td>NaN</td>\n",
       "      <td>NaN</td>\n",
       "      <td>NaN</td>\n",
       "    </tr>\n",
       "    <tr>\n",
       "      <th>10002</th>\n",
       "      <td>NaN</td>\n",
       "      <td>NaN</td>\n",
       "      <td>NaN</td>\n",
       "      <td>NaN</td>\n",
       "      <td>NaN</td>\n",
       "      <td>NaN</td>\n",
       "      <td>NaN</td>\n",
       "      <td>NaN</td>\n",
       "      <td>NaN</td>\n",
       "      <td>NaN</td>\n",
       "      <td>NaN</td>\n",
       "      <td>NaN</td>\n",
       "      <td>NaN</td>\n",
       "      <td>NaN</td>\n",
       "      <td>NaN</td>\n",
       "      <td>NaN</td>\n",
       "      <td>NaN</td>\n",
       "      <td>NaN</td>\n",
       "    </tr>\n",
       "    <tr>\n",
       "      <th>10003</th>\n",
       "      <td>NaN</td>\n",
       "      <td>NaN</td>\n",
       "      <td>NaN</td>\n",
       "      <td>NaN</td>\n",
       "      <td>NaN</td>\n",
       "      <td>NaN</td>\n",
       "      <td>NaN</td>\n",
       "      <td>NaN</td>\n",
       "      <td>NaN</td>\n",
       "      <td>NaN</td>\n",
       "      <td>NaN</td>\n",
       "      <td>NaN</td>\n",
       "      <td>NaN</td>\n",
       "      <td>NaN</td>\n",
       "      <td>NaN</td>\n",
       "      <td>NaN</td>\n",
       "      <td>NaN</td>\n",
       "      <td>NaN</td>\n",
       "    </tr>\n",
       "    <tr>\n",
       "      <th>10004</th>\n",
       "      <td>NaN</td>\n",
       "      <td>NaN</td>\n",
       "      <td>NaN</td>\n",
       "      <td>NaN</td>\n",
       "      <td>NaN</td>\n",
       "      <td>NaN</td>\n",
       "      <td>NaN</td>\n",
       "      <td>NaN</td>\n",
       "      <td>NaN</td>\n",
       "      <td>NaN</td>\n",
       "      <td>NaN</td>\n",
       "      <td>NaN</td>\n",
       "      <td>NaN</td>\n",
       "      <td>NaN</td>\n",
       "      <td>NaN</td>\n",
       "      <td>NaN</td>\n",
       "      <td>NaN</td>\n",
       "      <td>NaN</td>\n",
       "    </tr>\n",
       "    <tr>\n",
       "      <th>10005</th>\n",
       "      <td>77089.0</td>\n",
       "      <td>Blockhead</td>\n",
       "      <td>Cheer up, You're Not Dead Yet</td>\n",
       "      <td>44.0</td>\n",
       "      <td>0.00621</td>\n",
       "      <td>0.711</td>\n",
       "      <td>285987.0</td>\n",
       "      <td>0.621</td>\n",
       "      <td>0.029700</td>\n",
       "      <td>G</td>\n",
       "      <td>0.159</td>\n",
       "      <td>-7.429</td>\n",
       "      <td>Major</td>\n",
       "      <td>0.0382</td>\n",
       "      <td>142.065</td>\n",
       "      <td>4-Apr</td>\n",
       "      <td>0.607</td>\n",
       "      <td>Jazz</td>\n",
       "    </tr>\n",
       "  </tbody>\n",
       "</table>\n",
       "</div>"
      ],
      "text/plain": [
       "       instance_id artist_name                     track_name  popularity  \\\n",
       "9999       41509.0  Hachioji P           Yeah! Yeah!! Yeah!!!        14.0   \n",
       "10000          NaN         NaN                            NaN         NaN   \n",
       "10001          NaN         NaN                            NaN         NaN   \n",
       "10002          NaN         NaN                            NaN         NaN   \n",
       "10003          NaN         NaN                            NaN         NaN   \n",
       "10004          NaN         NaN                            NaN         NaN   \n",
       "10005      77089.0   Blockhead  Cheer up, You're Not Dead Yet        44.0   \n",
       "\n",
       "       acousticness  danceability  duration_ms  energy  instrumentalness  key  \\\n",
       "9999        0.02000         0.573     226374.0   0.921          0.000004   F#   \n",
       "10000           NaN           NaN          NaN     NaN               NaN  NaN   \n",
       "10001           NaN           NaN          NaN     NaN               NaN  NaN   \n",
       "10002           NaN           NaN          NaN     NaN               NaN  NaN   \n",
       "10003           NaN           NaN          NaN     NaN               NaN  NaN   \n",
       "10004           NaN           NaN          NaN     NaN               NaN  NaN   \n",
       "10005       0.00621         0.711     285987.0   0.621          0.029700    G   \n",
       "\n",
       "       liveness  loudness   mode  speechiness    tempo obtained_date  valence  \\\n",
       "9999      0.325    -3.841  Major       0.0734  135.029         4-Apr    0.599   \n",
       "10000       NaN       NaN    NaN          NaN      NaN           NaN      NaN   \n",
       "10001       NaN       NaN    NaN          NaN      NaN           NaN      NaN   \n",
       "10002       NaN       NaN    NaN          NaN      NaN           NaN      NaN   \n",
       "10003       NaN       NaN    NaN          NaN      NaN           NaN      NaN   \n",
       "10004       NaN       NaN    NaN          NaN      NaN           NaN      NaN   \n",
       "10005     0.159    -7.429  Major       0.0382  142.065         4-Apr    0.607   \n",
       "\n",
       "      music_genre  \n",
       "9999        Anime  \n",
       "10000         NaN  \n",
       "10001         NaN  \n",
       "10002         NaN  \n",
       "10003         NaN  \n",
       "10004         NaN  \n",
       "10005        Jazz  "
      ]
     },
     "execution_count": 17,
     "metadata": {},
     "output_type": "execute_result"
    }
   ],
   "source": [
    "music.iloc[9999:10006]"
   ]
  },
  {
   "cell_type": "code",
   "execution_count": 18,
   "id": "ce6fe0f3",
   "metadata": {},
   "outputs": [],
   "source": [
    "music.drop([1000, 10001, 10002, 10003, 10004], inplace = True)"
   ]
  },
  {
   "cell_type": "code",
   "execution_count": 19,
   "id": "67344419",
   "metadata": {},
   "outputs": [
    {
     "data": {
      "text/plain": [
       "(50000, 18)"
      ]
     },
     "execution_count": 19,
     "metadata": {},
     "output_type": "execute_result"
    }
   ],
   "source": [
    "music.shape"
   ]
  },
  {
   "cell_type": "code",
   "execution_count": null,
   "id": "65e08f9f",
   "metadata": {},
   "outputs": [],
   "source": []
  },
  {
   "cell_type": "markdown",
   "id": "d7f061a7",
   "metadata": {},
   "source": [
    "# II.2. Remove high-entropy features\n",
    "\n",
    "Entropy is the measurement of disorder or impurities in the information processed in machine learning.\n",
    "If entropy is higher then it will be difficult to draw any conclusion from that piece of information."
   ]
  },
  {
   "cell_type": "code",
   "execution_count": 20,
   "id": "554b4ea0",
   "metadata": {},
   "outputs": [
    {
     "data": {
      "text/plain": [
       "50000"
      ]
     },
     "execution_count": 20,
     "metadata": {},
     "output_type": "execute_result"
    }
   ],
   "source": [
    "# instance_id holds information about a song's ID, it is all unique as shown below\n",
    "len(music[\"instance_id\"].unique()) "
   ]
  },
  {
   "cell_type": "markdown",
   "id": "87c2009f",
   "metadata": {},
   "source": [
    "artist_name holds the information about that singers' name."
   ]
  },
  {
   "cell_type": "code",
   "execution_count": 21,
   "id": "6528b030",
   "metadata": {},
   "outputs": [
    {
     "data": {
      "text/plain": [
       "6864"
      ]
     },
     "execution_count": 21,
     "metadata": {},
     "output_type": "execute_result"
    }
   ],
   "source": [
    "len(music[\"artist_name\"].unique())"
   ]
  },
  {
   "cell_type": "markdown",
   "id": "eeca1c5b",
   "metadata": {},
   "source": [
    "A major key song is built on a major scale. A minor key song is based on a minor scale. The seven notes of the C major scale - C, D, E, F, G, A, and B - are central to a song written in the 'key of C major.' That is, the fundamental notes that comprise the melody, chords, and bassline of the song are all derived from that group of notes. There are 12 major keys since there are 12 major scales. Similarly, there are 12 minor scales and, as a result, 12 minor keys. So there are a total of 24 keys. The feature contains 12 distinct values (letters) that should be read in conjunction with the mode column. Key is preserved in the data since their number is not very large."
   ]
  },
  {
   "cell_type": "code",
   "execution_count": 22,
   "id": "58913ceb",
   "metadata": {},
   "outputs": [
    {
     "data": {
      "text/plain": [
       "array(['A#', 'D', 'G#', 'C#', 'F#', 'B', 'G', 'F', 'A', 'C', 'E', 'D#',\n",
       "       nan], dtype=object)"
      ]
     },
     "execution_count": 22,
     "metadata": {},
     "output_type": "execute_result"
    }
   ],
   "source": [
    "music[\"key\"].unique()"
   ]
  },
  {
   "cell_type": "markdown",
   "id": "a32ed68f",
   "metadata": {},
   "source": [
    "In music, there are two types of tonalities: major and minor. Tonality describes a key's emotional personality. There is generally a difference between two characters, modes, or endpoints of a spectrum in real life. Light and darkness, happiness and sadness, good and bad, light and heavy, and so on are some examples. This same law of contrast is responsible for the existence of two tonalities in music: major tonality and minor tonality. A quick look at the mode column reveals that these are the values in this feature."
   ]
  },
  {
   "cell_type": "code",
   "execution_count": 23,
   "id": "83394498",
   "metadata": {},
   "outputs": [
    {
     "data": {
      "text/plain": [
       "array(['Minor', 'Major', nan], dtype=object)"
      ]
     },
     "execution_count": 23,
     "metadata": {},
     "output_type": "execute_result"
    }
   ],
   "source": [
    "music[\"mode\"].unique()"
   ]
  },
  {
   "cell_type": "markdown",
   "id": "8bd7745b",
   "metadata": {},
   "source": [
    "obtained_date is not very informative since it shows one of 4 days in April (year not provided). It is not clear what these values mean. Therefore, the feature is removed from the dataset."
   ]
  },
  {
   "cell_type": "code",
   "execution_count": 24,
   "id": "6bbf2f4c",
   "metadata": {},
   "outputs": [
    {
     "data": {
      "text/plain": [
       "array(['4-Apr', '3-Apr', '5-Apr', '1-Apr', nan, '0/4'], dtype=object)"
      ]
     },
     "execution_count": 24,
     "metadata": {},
     "output_type": "execute_result"
    }
   ],
   "source": [
    "music[\"obtained_date\"].unique()"
   ]
  },
  {
   "cell_type": "markdown",
   "id": "b33eb446",
   "metadata": {},
   "source": [
    "The target column - the one that will be predicted - is music genre. It stores the labels of each sample, i.e. the class to which it belongs. The code line following lists all of its unique values."
   ]
  },
  {
   "cell_type": "code",
   "execution_count": 25,
   "id": "ff22b8c5",
   "metadata": {},
   "outputs": [
    {
     "data": {
      "text/plain": [
       "array(['Electronic', 'Anime', nan, 'Jazz', 'Alternative', 'Country',\n",
       "       'Rap', 'Blues', 'Rock', 'Classical', 'Hip-Hop'], dtype=object)"
      ]
     },
     "execution_count": 25,
     "metadata": {},
     "output_type": "execute_result"
    }
   ],
   "source": [
    "music[\"music_genre\"].unique()"
   ]
  },
  {
   "cell_type": "markdown",
   "id": "a23e252a",
   "metadata": {},
   "source": [
    "The dataset index was reset since 5 rows were removed earlier (see below).\n",
    "\n"
   ]
  },
  {
   "cell_type": "code",
   "execution_count": 26,
   "id": "9bf0fbfb",
   "metadata": {},
   "outputs": [],
   "source": [
    "music.reset_index(inplace = True)"
   ]
  },
  {
   "cell_type": "markdown",
   "id": "ec2efd45",
   "metadata": {},
   "source": [
    "Non-predictive features such as index, instance id, track name (each entry has a unique track name), and obtained date can now be eliminated. A quick check demonstrates how the dataset looks after this basic cleanup."
   ]
  },
  {
   "cell_type": "code",
   "execution_count": 27,
   "id": "ad5daa53",
   "metadata": {},
   "outputs": [],
   "source": [
    "music = music.drop([\"index\", \"instance_id\", \"track_name\", \"obtained_date\"], axis = 1)"
   ]
  },
  {
   "cell_type": "code",
   "execution_count": 28,
   "id": "6eeb1fcf",
   "metadata": {},
   "outputs": [
    {
     "data": {
      "text/html": [
       "<div>\n",
       "<style scoped>\n",
       "    .dataframe tbody tr th:only-of-type {\n",
       "        vertical-align: middle;\n",
       "    }\n",
       "\n",
       "    .dataframe tbody tr th {\n",
       "        vertical-align: top;\n",
       "    }\n",
       "\n",
       "    .dataframe thead th {\n",
       "        text-align: right;\n",
       "    }\n",
       "</style>\n",
       "<table border=\"1\" class=\"dataframe\">\n",
       "  <thead>\n",
       "    <tr style=\"text-align: right;\">\n",
       "      <th></th>\n",
       "      <th>artist_name</th>\n",
       "      <th>popularity</th>\n",
       "      <th>acousticness</th>\n",
       "      <th>danceability</th>\n",
       "      <th>duration_ms</th>\n",
       "      <th>energy</th>\n",
       "      <th>instrumentalness</th>\n",
       "      <th>key</th>\n",
       "      <th>liveness</th>\n",
       "      <th>loudness</th>\n",
       "      <th>mode</th>\n",
       "      <th>speechiness</th>\n",
       "      <th>tempo</th>\n",
       "      <th>valence</th>\n",
       "      <th>music_genre</th>\n",
       "    </tr>\n",
       "  </thead>\n",
       "  <tbody>\n",
       "    <tr>\n",
       "      <th>0</th>\n",
       "      <td>Röyksopp</td>\n",
       "      <td>27.0</td>\n",
       "      <td>0.00468</td>\n",
       "      <td>0.652</td>\n",
       "      <td>-1.0</td>\n",
       "      <td>0.941</td>\n",
       "      <td>0.79200</td>\n",
       "      <td>A#</td>\n",
       "      <td>0.115</td>\n",
       "      <td>-5.201</td>\n",
       "      <td>Minor</td>\n",
       "      <td>0.0748</td>\n",
       "      <td>100.889</td>\n",
       "      <td>0.759</td>\n",
       "      <td>Electronic</td>\n",
       "    </tr>\n",
       "    <tr>\n",
       "      <th>1</th>\n",
       "      <td>Thievery Corporation</td>\n",
       "      <td>31.0</td>\n",
       "      <td>0.01270</td>\n",
       "      <td>0.622</td>\n",
       "      <td>218293.0</td>\n",
       "      <td>0.890</td>\n",
       "      <td>0.95000</td>\n",
       "      <td>D</td>\n",
       "      <td>0.124</td>\n",
       "      <td>-7.043</td>\n",
       "      <td>Minor</td>\n",
       "      <td>0.0300</td>\n",
       "      <td>115.00200000000001</td>\n",
       "      <td>0.531</td>\n",
       "      <td>Electronic</td>\n",
       "    </tr>\n",
       "    <tr>\n",
       "      <th>2</th>\n",
       "      <td>Dillon Francis</td>\n",
       "      <td>28.0</td>\n",
       "      <td>0.00306</td>\n",
       "      <td>0.620</td>\n",
       "      <td>215613.0</td>\n",
       "      <td>0.755</td>\n",
       "      <td>0.01180</td>\n",
       "      <td>G#</td>\n",
       "      <td>0.534</td>\n",
       "      <td>-4.617</td>\n",
       "      <td>Major</td>\n",
       "      <td>0.0345</td>\n",
       "      <td>127.994</td>\n",
       "      <td>0.333</td>\n",
       "      <td>Electronic</td>\n",
       "    </tr>\n",
       "    <tr>\n",
       "      <th>3</th>\n",
       "      <td>Dubloadz</td>\n",
       "      <td>34.0</td>\n",
       "      <td>0.02540</td>\n",
       "      <td>0.774</td>\n",
       "      <td>166875.0</td>\n",
       "      <td>0.700</td>\n",
       "      <td>0.00253</td>\n",
       "      <td>C#</td>\n",
       "      <td>0.157</td>\n",
       "      <td>-4.498</td>\n",
       "      <td>Major</td>\n",
       "      <td>0.2390</td>\n",
       "      <td>128.014</td>\n",
       "      <td>0.270</td>\n",
       "      <td>Electronic</td>\n",
       "    </tr>\n",
       "    <tr>\n",
       "      <th>4</th>\n",
       "      <td>What So Not</td>\n",
       "      <td>32.0</td>\n",
       "      <td>0.00465</td>\n",
       "      <td>0.638</td>\n",
       "      <td>222369.0</td>\n",
       "      <td>0.587</td>\n",
       "      <td>0.90900</td>\n",
       "      <td>F#</td>\n",
       "      <td>0.157</td>\n",
       "      <td>-6.266</td>\n",
       "      <td>Major</td>\n",
       "      <td>0.0413</td>\n",
       "      <td>145.036</td>\n",
       "      <td>0.323</td>\n",
       "      <td>Electronic</td>\n",
       "    </tr>\n",
       "  </tbody>\n",
       "</table>\n",
       "</div>"
      ],
      "text/plain": [
       "            artist_name  popularity  acousticness  danceability  duration_ms  \\\n",
       "0              Röyksopp        27.0       0.00468         0.652         -1.0   \n",
       "1  Thievery Corporation        31.0       0.01270         0.622     218293.0   \n",
       "2        Dillon Francis        28.0       0.00306         0.620     215613.0   \n",
       "3              Dubloadz        34.0       0.02540         0.774     166875.0   \n",
       "4           What So Not        32.0       0.00465         0.638     222369.0   \n",
       "\n",
       "   energy  instrumentalness key  liveness  loudness   mode  speechiness  \\\n",
       "0   0.941           0.79200  A#     0.115    -5.201  Minor       0.0748   \n",
       "1   0.890           0.95000   D     0.124    -7.043  Minor       0.0300   \n",
       "2   0.755           0.01180  G#     0.534    -4.617  Major       0.0345   \n",
       "3   0.700           0.00253  C#     0.157    -4.498  Major       0.2390   \n",
       "4   0.587           0.90900  F#     0.157    -6.266  Major       0.0413   \n",
       "\n",
       "                tempo  valence music_genre  \n",
       "0             100.889    0.759  Electronic  \n",
       "1  115.00200000000001    0.531  Electronic  \n",
       "2             127.994    0.333  Electronic  \n",
       "3             128.014    0.270  Electronic  \n",
       "4             145.036    0.323  Electronic  "
      ]
     },
     "execution_count": 28,
     "metadata": {},
     "output_type": "execute_result"
    }
   ],
   "source": [
    "music.head()"
   ]
  },
  {
   "cell_type": "markdown",
   "id": "cb0a001b",
   "metadata": {},
   "source": [
    "# II.3. Explore artists"
   ]
  },
  {
   "cell_type": "markdown",
   "id": "c71286fc",
   "metadata": {},
   "source": [
    "It would be interesting to know how many songs each artist has in this dataset. Many examples have the value \"empty field\" (see the code line below). It outnumbers all artists and distorts song count displays."
   ]
  },
  {
   "cell_type": "code",
   "execution_count": 29,
   "id": "67b482ee",
   "metadata": {},
   "outputs": [
    {
     "data": {
      "text/html": [
       "<div>\n",
       "<style scoped>\n",
       "    .dataframe tbody tr th:only-of-type {\n",
       "        vertical-align: middle;\n",
       "    }\n",
       "\n",
       "    .dataframe tbody tr th {\n",
       "        vertical-align: top;\n",
       "    }\n",
       "\n",
       "    .dataframe thead th {\n",
       "        text-align: right;\n",
       "    }\n",
       "</style>\n",
       "<table border=\"1\" class=\"dataframe\">\n",
       "  <thead>\n",
       "    <tr style=\"text-align: right;\">\n",
       "      <th></th>\n",
       "      <th>artist_name</th>\n",
       "      <th>popularity</th>\n",
       "      <th>acousticness</th>\n",
       "      <th>danceability</th>\n",
       "      <th>duration_ms</th>\n",
       "      <th>energy</th>\n",
       "      <th>instrumentalness</th>\n",
       "      <th>key</th>\n",
       "      <th>liveness</th>\n",
       "      <th>loudness</th>\n",
       "      <th>mode</th>\n",
       "      <th>speechiness</th>\n",
       "      <th>tempo</th>\n",
       "      <th>valence</th>\n",
       "      <th>music_genre</th>\n",
       "    </tr>\n",
       "  </thead>\n",
       "  <tbody>\n",
       "    <tr>\n",
       "      <th>19</th>\n",
       "      <td>empty_field</td>\n",
       "      <td>50.0</td>\n",
       "      <td>0.02810</td>\n",
       "      <td>0.656</td>\n",
       "      <td>307328.0</td>\n",
       "      <td>0.653</td>\n",
       "      <td>0.858000</td>\n",
       "      <td>F#</td>\n",
       "      <td>0.1120</td>\n",
       "      <td>-11.883</td>\n",
       "      <td>Minor</td>\n",
       "      <td>0.0396</td>\n",
       "      <td>117.999</td>\n",
       "      <td>0.1990</td>\n",
       "      <td>Electronic</td>\n",
       "    </tr>\n",
       "    <tr>\n",
       "      <th>25</th>\n",
       "      <td>empty_field</td>\n",
       "      <td>34.0</td>\n",
       "      <td>0.02360</td>\n",
       "      <td>0.715</td>\n",
       "      <td>221050.0</td>\n",
       "      <td>0.978</td>\n",
       "      <td>0.000493</td>\n",
       "      <td>D</td>\n",
       "      <td>0.2160</td>\n",
       "      <td>-1.538</td>\n",
       "      <td>Major</td>\n",
       "      <td>0.3620</td>\n",
       "      <td>125.109</td>\n",
       "      <td>0.4180</td>\n",
       "      <td>Electronic</td>\n",
       "    </tr>\n",
       "    <tr>\n",
       "      <th>44</th>\n",
       "      <td>empty_field</td>\n",
       "      <td>31.0</td>\n",
       "      <td>0.00350</td>\n",
       "      <td>0.595</td>\n",
       "      <td>222147.0</td>\n",
       "      <td>0.904</td>\n",
       "      <td>0.003780</td>\n",
       "      <td>D</td>\n",
       "      <td>0.0533</td>\n",
       "      <td>-6.805</td>\n",
       "      <td>Minor</td>\n",
       "      <td>0.0349</td>\n",
       "      <td>127.61</td>\n",
       "      <td>0.8410</td>\n",
       "      <td>Electronic</td>\n",
       "    </tr>\n",
       "    <tr>\n",
       "      <th>128</th>\n",
       "      <td>empty_field</td>\n",
       "      <td>32.0</td>\n",
       "      <td>0.01390</td>\n",
       "      <td>0.498</td>\n",
       "      <td>-1.0</td>\n",
       "      <td>0.945</td>\n",
       "      <td>0.647000</td>\n",
       "      <td>F</td>\n",
       "      <td>0.3380</td>\n",
       "      <td>-0.003</td>\n",
       "      <td>Minor</td>\n",
       "      <td>0.1370</td>\n",
       "      <td>149.888</td>\n",
       "      <td>0.1790</td>\n",
       "      <td>Electronic</td>\n",
       "    </tr>\n",
       "    <tr>\n",
       "      <th>135</th>\n",
       "      <td>empty_field</td>\n",
       "      <td>44.0</td>\n",
       "      <td>0.15300</td>\n",
       "      <td>0.792</td>\n",
       "      <td>265133.0</td>\n",
       "      <td>0.549</td>\n",
       "      <td>0.379000</td>\n",
       "      <td>F</td>\n",
       "      <td>0.3430</td>\n",
       "      <td>-9.855</td>\n",
       "      <td>Major</td>\n",
       "      <td>0.0456</td>\n",
       "      <td>120.01299999999999</td>\n",
       "      <td>0.4760</td>\n",
       "      <td>Electronic</td>\n",
       "    </tr>\n",
       "    <tr>\n",
       "      <th>...</th>\n",
       "      <td>...</td>\n",
       "      <td>...</td>\n",
       "      <td>...</td>\n",
       "      <td>...</td>\n",
       "      <td>...</td>\n",
       "      <td>...</td>\n",
       "      <td>...</td>\n",
       "      <td>...</td>\n",
       "      <td>...</td>\n",
       "      <td>...</td>\n",
       "      <td>...</td>\n",
       "      <td>...</td>\n",
       "      <td>...</td>\n",
       "      <td>...</td>\n",
       "      <td>...</td>\n",
       "    </tr>\n",
       "    <tr>\n",
       "      <th>49937</th>\n",
       "      <td>empty_field</td>\n",
       "      <td>50.0</td>\n",
       "      <td>0.05480</td>\n",
       "      <td>0.754</td>\n",
       "      <td>132414.0</td>\n",
       "      <td>0.840</td>\n",
       "      <td>0.000014</td>\n",
       "      <td>A</td>\n",
       "      <td>0.1500</td>\n",
       "      <td>-5.111</td>\n",
       "      <td>Major</td>\n",
       "      <td>0.3130</td>\n",
       "      <td>144.991</td>\n",
       "      <td>0.0397</td>\n",
       "      <td>Hip-Hop</td>\n",
       "    </tr>\n",
       "    <tr>\n",
       "      <th>49951</th>\n",
       "      <td>empty_field</td>\n",
       "      <td>52.0</td>\n",
       "      <td>0.13300</td>\n",
       "      <td>0.867</td>\n",
       "      <td>-1.0</td>\n",
       "      <td>0.618</td>\n",
       "      <td>0.000002</td>\n",
       "      <td>B</td>\n",
       "      <td>0.1280</td>\n",
       "      <td>-4.956</td>\n",
       "      <td>Minor</td>\n",
       "      <td>0.0614</td>\n",
       "      <td>140.005</td>\n",
       "      <td>0.8570</td>\n",
       "      <td>Hip-Hop</td>\n",
       "    </tr>\n",
       "    <tr>\n",
       "      <th>49966</th>\n",
       "      <td>empty_field</td>\n",
       "      <td>51.0</td>\n",
       "      <td>0.12400</td>\n",
       "      <td>0.786</td>\n",
       "      <td>187027.0</td>\n",
       "      <td>0.738</td>\n",
       "      <td>0.000000</td>\n",
       "      <td>C</td>\n",
       "      <td>0.1400</td>\n",
       "      <td>-5.621</td>\n",
       "      <td>Major</td>\n",
       "      <td>0.3890</td>\n",
       "      <td>93.758</td>\n",
       "      <td>0.7800</td>\n",
       "      <td>Hip-Hop</td>\n",
       "    </tr>\n",
       "    <tr>\n",
       "      <th>49986</th>\n",
       "      <td>empty_field</td>\n",
       "      <td>53.0</td>\n",
       "      <td>0.00392</td>\n",
       "      <td>0.770</td>\n",
       "      <td>211820.0</td>\n",
       "      <td>0.905</td>\n",
       "      <td>0.000003</td>\n",
       "      <td>F</td>\n",
       "      <td>0.1690</td>\n",
       "      <td>-8.235</td>\n",
       "      <td>Minor</td>\n",
       "      <td>0.1440</td>\n",
       "      <td>135.999</td>\n",
       "      <td>0.4640</td>\n",
       "      <td>Hip-Hop</td>\n",
       "    </tr>\n",
       "    <tr>\n",
       "      <th>49989</th>\n",
       "      <td>empty_field</td>\n",
       "      <td>62.0</td>\n",
       "      <td>0.01060</td>\n",
       "      <td>0.944</td>\n",
       "      <td>197923.0</td>\n",
       "      <td>0.559</td>\n",
       "      <td>0.000033</td>\n",
       "      <td>B</td>\n",
       "      <td>0.0775</td>\n",
       "      <td>-7.706</td>\n",
       "      <td>Minor</td>\n",
       "      <td>0.0640</td>\n",
       "      <td>107.992</td>\n",
       "      <td>0.7050</td>\n",
       "      <td>Hip-Hop</td>\n",
       "    </tr>\n",
       "  </tbody>\n",
       "</table>\n",
       "<p>2489 rows × 15 columns</p>\n",
       "</div>"
      ],
      "text/plain": [
       "       artist_name  popularity  acousticness  danceability  duration_ms  \\\n",
       "19     empty_field        50.0       0.02810         0.656     307328.0   \n",
       "25     empty_field        34.0       0.02360         0.715     221050.0   \n",
       "44     empty_field        31.0       0.00350         0.595     222147.0   \n",
       "128    empty_field        32.0       0.01390         0.498         -1.0   \n",
       "135    empty_field        44.0       0.15300         0.792     265133.0   \n",
       "...            ...         ...           ...           ...          ...   \n",
       "49937  empty_field        50.0       0.05480         0.754     132414.0   \n",
       "49951  empty_field        52.0       0.13300         0.867         -1.0   \n",
       "49966  empty_field        51.0       0.12400         0.786     187027.0   \n",
       "49986  empty_field        53.0       0.00392         0.770     211820.0   \n",
       "49989  empty_field        62.0       0.01060         0.944     197923.0   \n",
       "\n",
       "       energy  instrumentalness key  liveness  loudness   mode  speechiness  \\\n",
       "19      0.653          0.858000  F#    0.1120   -11.883  Minor       0.0396   \n",
       "25      0.978          0.000493   D    0.2160    -1.538  Major       0.3620   \n",
       "44      0.904          0.003780   D    0.0533    -6.805  Minor       0.0349   \n",
       "128     0.945          0.647000   F    0.3380    -0.003  Minor       0.1370   \n",
       "135     0.549          0.379000   F    0.3430    -9.855  Major       0.0456   \n",
       "...       ...               ...  ..       ...       ...    ...          ...   \n",
       "49937   0.840          0.000014   A    0.1500    -5.111  Major       0.3130   \n",
       "49951   0.618          0.000002   B    0.1280    -4.956  Minor       0.0614   \n",
       "49966   0.738          0.000000   C    0.1400    -5.621  Major       0.3890   \n",
       "49986   0.905          0.000003   F    0.1690    -8.235  Minor       0.1440   \n",
       "49989   0.559          0.000033   B    0.0775    -7.706  Minor       0.0640   \n",
       "\n",
       "                    tempo  valence music_genre  \n",
       "19                117.999   0.1990  Electronic  \n",
       "25                125.109   0.4180  Electronic  \n",
       "44                 127.61   0.8410  Electronic  \n",
       "128               149.888   0.1790  Electronic  \n",
       "135    120.01299999999999   0.4760  Electronic  \n",
       "...                   ...      ...         ...  \n",
       "49937             144.991   0.0397     Hip-Hop  \n",
       "49951             140.005   0.8570     Hip-Hop  \n",
       "49966              93.758   0.7800     Hip-Hop  \n",
       "49986             135.999   0.4640     Hip-Hop  \n",
       "49989             107.992   0.7050     Hip-Hop  \n",
       "\n",
       "[2489 rows x 15 columns]"
      ]
     },
     "execution_count": 29,
     "metadata": {},
     "output_type": "execute_result"
    }
   ],
   "source": [
    "music[music[\"artist_name\"] == \"empty_field\"]"
   ]
  },
  {
   "cell_type": "code",
   "execution_count": 30,
   "id": "e2eb4b6b",
   "metadata": {},
   "outputs": [
    {
     "data": {
      "text/plain": [
       "Ryuichi Sakamoto              90\n",
       "$uicideBoy$                   92\n",
       "Logic                         92\n",
       "Howard Shore                  93\n",
       "Mac Miller                    97\n",
       "Kevin Gates                  102\n",
       "Pyotr Ilyich Tchaikovsky     103\n",
       "The Black Keys               114\n",
       "Thievery Corporation         122\n",
       "Future                       124\n",
       "Eminem                       147\n",
       "Yuki Hayashi                 167\n",
       "Capcom Sound Team            169\n",
       "Drake                        172\n",
       "Frédéric Chopin              241\n",
       "Johann Sebastian Bach        314\n",
       "Ludwig van Beethoven         317\n",
       "Wolfgang Amadeus Mozart      402\n",
       "Nobuo Uematsu                429\n",
       "empty_field                 2489\n",
       "Name: artist_name, dtype: int64"
      ]
     },
     "execution_count": 30,
     "metadata": {},
     "output_type": "execute_result"
    }
   ],
   "source": [
    "artists = music[\"artist_name\"].value_counts()[:20].sort_values(ascending = True)\n",
    "artists"
   ]
  },
  {
   "cell_type": "code",
   "execution_count": 31,
   "id": "42cd5a6c",
   "metadata": {},
   "outputs": [
    {
     "data": {
      "image/png": "[encoded data removed]",
      "text/plain": [
       "<Figure size 640x480 with 1 Axes>"
      ]
     },
     "metadata": {},
     "output_type": "display_data"
    }
   ],
   "source": [
    "plt.barh(artists.index, artists)\n",
    "plt.xlabel(\"Number of songs per artist\")\n",
    "plt.title(\"Songs per artist\")\n",
    "plt.show()"
   ]
  },
  {
   "cell_type": "markdown",
   "id": "21dab9f9",
   "metadata": {},
   "source": [
    "To make this visualisation more informative, all samples with \"empty field\" in artist name were eliminated. It should be noted that the figure below only includes the first 20 artists with the most songs in the data."
   ]
  },
  {
   "cell_type": "code",
   "execution_count": 32,
   "id": "95d9583e",
   "metadata": {},
   "outputs": [],
   "source": [
    "music = music.drop(music[music[\"artist_name\"] == \"empty_field\"].index)"
   ]
  },
  {
   "cell_type": "code",
   "execution_count": 33,
   "id": "2f309ee0",
   "metadata": {},
   "outputs": [],
   "source": [
    "top_20_artists = music[\"artist_name\"].value_counts()[:20].sort_values(ascending = True)"
   ]
  },
  {
   "cell_type": "code",
   "execution_count": 34,
   "id": "2913e48e",
   "metadata": {},
   "outputs": [
    {
     "data": {
      "image/png": "[encoded data removed]",
      "text/plain": [
       "<Figure size 640x480 with 1 Axes>"
      ]
     },
     "metadata": {},
     "output_type": "display_data"
    }
   ],
   "source": [
    "plt.barh(top_20_artists.index, top_20_artists)\n",
    "plt.xlabel(\"Number of songs per artist\")\n",
    "plt.title(\"Songs per artist\")\n",
    "plt.show()"
   ]
  },
  {
   "cell_type": "markdown",
   "id": "775aa1c1",
   "metadata": {},
   "source": [
    "The dataset appears to have been gathered by Japanese authors or in Japan, given several musicians in the top20. Furthermore, numerous composers (e.g., Mozart, Beethoven, etc.) were included on this list. The artist name has been eliminated in order to avoid a huge number of features."
   ]
  },
  {
   "cell_type": "code",
   "execution_count": 35,
   "id": "fa54ef6d",
   "metadata": {},
   "outputs": [],
   "source": [
    "music.drop(\"artist_name\", axis = 1, inplace = True)"
   ]
  },
  {
   "cell_type": "markdown",
   "id": "e9c22a02",
   "metadata": {},
   "source": [
    "A brief scan reveals that the majority of the features are numerical values, with the exception of three columns that contain category data. The following chapter delves deeper into each feature."
   ]
  },
  {
   "cell_type": "code",
   "execution_count": 36,
   "id": "8a02f625",
   "metadata": {},
   "outputs": [
    {
     "data": {
      "text/html": [
       "<div>\n",
       "<style scoped>\n",
       "    .dataframe tbody tr th:only-of-type {\n",
       "        vertical-align: middle;\n",
       "    }\n",
       "\n",
       "    .dataframe tbody tr th {\n",
       "        vertical-align: top;\n",
       "    }\n",
       "\n",
       "    .dataframe thead th {\n",
       "        text-align: right;\n",
       "    }\n",
       "</style>\n",
       "<table border=\"1\" class=\"dataframe\">\n",
       "  <thead>\n",
       "    <tr style=\"text-align: right;\">\n",
       "      <th></th>\n",
       "      <th>popularity</th>\n",
       "      <th>acousticness</th>\n",
       "      <th>danceability</th>\n",
       "      <th>duration_ms</th>\n",
       "      <th>energy</th>\n",
       "      <th>instrumentalness</th>\n",
       "      <th>key</th>\n",
       "      <th>liveness</th>\n",
       "      <th>loudness</th>\n",
       "      <th>mode</th>\n",
       "      <th>speechiness</th>\n",
       "      <th>tempo</th>\n",
       "      <th>valence</th>\n",
       "      <th>music_genre</th>\n",
       "    </tr>\n",
       "  </thead>\n",
       "  <tbody>\n",
       "    <tr>\n",
       "      <th>0</th>\n",
       "      <td>27.0</td>\n",
       "      <td>0.00468</td>\n",
       "      <td>0.652</td>\n",
       "      <td>-1.0</td>\n",
       "      <td>0.941</td>\n",
       "      <td>0.79200</td>\n",
       "      <td>A#</td>\n",
       "      <td>0.115</td>\n",
       "      <td>-5.201</td>\n",
       "      <td>Minor</td>\n",
       "      <td>0.0748</td>\n",
       "      <td>100.889</td>\n",
       "      <td>0.759</td>\n",
       "      <td>Electronic</td>\n",
       "    </tr>\n",
       "    <tr>\n",
       "      <th>1</th>\n",
       "      <td>31.0</td>\n",
       "      <td>0.01270</td>\n",
       "      <td>0.622</td>\n",
       "      <td>218293.0</td>\n",
       "      <td>0.890</td>\n",
       "      <td>0.95000</td>\n",
       "      <td>D</td>\n",
       "      <td>0.124</td>\n",
       "      <td>-7.043</td>\n",
       "      <td>Minor</td>\n",
       "      <td>0.0300</td>\n",
       "      <td>115.00200000000001</td>\n",
       "      <td>0.531</td>\n",
       "      <td>Electronic</td>\n",
       "    </tr>\n",
       "    <tr>\n",
       "      <th>2</th>\n",
       "      <td>28.0</td>\n",
       "      <td>0.00306</td>\n",
       "      <td>0.620</td>\n",
       "      <td>215613.0</td>\n",
       "      <td>0.755</td>\n",
       "      <td>0.01180</td>\n",
       "      <td>G#</td>\n",
       "      <td>0.534</td>\n",
       "      <td>-4.617</td>\n",
       "      <td>Major</td>\n",
       "      <td>0.0345</td>\n",
       "      <td>127.994</td>\n",
       "      <td>0.333</td>\n",
       "      <td>Electronic</td>\n",
       "    </tr>\n",
       "    <tr>\n",
       "      <th>3</th>\n",
       "      <td>34.0</td>\n",
       "      <td>0.02540</td>\n",
       "      <td>0.774</td>\n",
       "      <td>166875.0</td>\n",
       "      <td>0.700</td>\n",
       "      <td>0.00253</td>\n",
       "      <td>C#</td>\n",
       "      <td>0.157</td>\n",
       "      <td>-4.498</td>\n",
       "      <td>Major</td>\n",
       "      <td>0.2390</td>\n",
       "      <td>128.014</td>\n",
       "      <td>0.270</td>\n",
       "      <td>Electronic</td>\n",
       "    </tr>\n",
       "    <tr>\n",
       "      <th>4</th>\n",
       "      <td>32.0</td>\n",
       "      <td>0.00465</td>\n",
       "      <td>0.638</td>\n",
       "      <td>222369.0</td>\n",
       "      <td>0.587</td>\n",
       "      <td>0.90900</td>\n",
       "      <td>F#</td>\n",
       "      <td>0.157</td>\n",
       "      <td>-6.266</td>\n",
       "      <td>Major</td>\n",
       "      <td>0.0413</td>\n",
       "      <td>145.036</td>\n",
       "      <td>0.323</td>\n",
       "      <td>Electronic</td>\n",
       "    </tr>\n",
       "  </tbody>\n",
       "</table>\n",
       "</div>"
      ],
      "text/plain": [
       "   popularity  acousticness  danceability  duration_ms  energy  \\\n",
       "0        27.0       0.00468         0.652         -1.0   0.941   \n",
       "1        31.0       0.01270         0.622     218293.0   0.890   \n",
       "2        28.0       0.00306         0.620     215613.0   0.755   \n",
       "3        34.0       0.02540         0.774     166875.0   0.700   \n",
       "4        32.0       0.00465         0.638     222369.0   0.587   \n",
       "\n",
       "   instrumentalness key  liveness  loudness   mode  speechiness  \\\n",
       "0           0.79200  A#     0.115    -5.201  Minor       0.0748   \n",
       "1           0.95000   D     0.124    -7.043  Minor       0.0300   \n",
       "2           0.01180  G#     0.534    -4.617  Major       0.0345   \n",
       "3           0.00253  C#     0.157    -4.498  Major       0.2390   \n",
       "4           0.90900  F#     0.157    -6.266  Major       0.0413   \n",
       "\n",
       "                tempo  valence music_genre  \n",
       "0             100.889    0.759  Electronic  \n",
       "1  115.00200000000001    0.531  Electronic  \n",
       "2             127.994    0.333  Electronic  \n",
       "3             128.014    0.270  Electronic  \n",
       "4             145.036    0.323  Electronic  "
      ]
     },
     "execution_count": 36,
     "metadata": {},
     "output_type": "execute_result"
    }
   ],
   "source": [
    "music.head()"
   ]
  },
  {
   "cell_type": "markdown",
   "id": "5ace6404",
   "metadata": {},
   "source": [
    "# III. Visualize data\n",
    "\n",
    "Visualizing counts and distributions simplifies data overview and comprehension. The graphs below show the counts in each of the three categorical features for each class.\n"
   ]
  },
  {
   "cell_type": "code",
   "execution_count": 37,
   "id": "11d48358",
   "metadata": {},
   "outputs": [],
   "source": [
    "def plot_counts(feature, order = None):\n",
    "    sns.countplot(x = feature, data = music, palette = \"ocean\", order = order)\n",
    "    plt.title(f\"Counts in each {feature}\")\n",
    "    plt.show()"
   ]
  },
  {
   "cell_type": "markdown",
   "id": "14d1967f",
   "metadata": {},
   "source": [
    "The graph below depicts how many times each key appears in the dataset. G is the most common, followed by C, with only 1500 entries."
   ]
  },
  {
   "cell_type": "code",
   "execution_count": 38,
   "id": "eb38a849",
   "metadata": {},
   "outputs": [
    {
     "data": {
      "image/png": "[encoded data removed]",
      "text/plain": [
       "<Figure size 640x480 with 1 Axes>"
      ]
     },
     "metadata": {},
     "output_type": "display_data"
    }
   ],
   "source": [
    "plot_counts(\"key\", [\"A\", \"A#\", \"B\", \"C\", \"C#\", \"D\", \"E\", \"F\", \"F#\", \"G\", \"G#\"])"
   ]
  },
  {
   "cell_type": "markdown",
   "id": "838b7381",
   "metadata": {},
   "source": [
    "The majority of songs are at the \"major\" end of the musical scale (see below)."
   ]
  },
  {
   "cell_type": "code",
   "execution_count": 39,
   "id": "aa1f6c1f",
   "metadata": {},
   "outputs": [
    {
     "data": {
      "image/png": "[encoded data removed]",
      "text/plain": [
       "<Figure size 640x480 with 1 Axes>"
      ]
     },
     "metadata": {},
     "output_type": "display_data"
    }
   ],
   "source": [
    "plot_counts(\"mode\")"
   ]
  },
  {
   "cell_type": "markdown",
   "id": "0b5dcc94",
   "metadata": {},
   "source": [
    "On the other hand, each genre is evenly represented; no classes are over-represented or under-represented."
   ]
  },
  {
   "cell_type": "markdown",
   "id": "eba4f053",
   "metadata": {},
   "source": [
    "To save time and space, the distribution of continuous values in numeric characteristics is displayed on subplots. It was discovered that the tempo column contains faulty values. Tempo refers to the rate at which a piece of music should be performed. In this feature, certain samples (4720) have a question mark (?) instead of floats (see below)."
   ]
  },
  {
   "cell_type": "code",
   "execution_count": 41,
   "id": "6a836f74",
   "metadata": {},
   "outputs": [
    {
     "data": {
      "text/html": [
       "<div>\n",
       "<style scoped>\n",
       "    .dataframe tbody tr th:only-of-type {\n",
       "        vertical-align: middle;\n",
       "    }\n",
       "\n",
       "    .dataframe tbody tr th {\n",
       "        vertical-align: top;\n",
       "    }\n",
       "\n",
       "    .dataframe thead th {\n",
       "        text-align: right;\n",
       "    }\n",
       "</style>\n",
       "<table border=\"1\" class=\"dataframe\">\n",
       "  <thead>\n",
       "    <tr style=\"text-align: right;\">\n",
       "      <th></th>\n",
       "      <th>popularity</th>\n",
       "      <th>acousticness</th>\n",
       "      <th>danceability</th>\n",
       "      <th>duration_ms</th>\n",
       "      <th>energy</th>\n",
       "      <th>instrumentalness</th>\n",
       "      <th>key</th>\n",
       "      <th>liveness</th>\n",
       "      <th>loudness</th>\n",
       "      <th>mode</th>\n",
       "      <th>speechiness</th>\n",
       "      <th>tempo</th>\n",
       "      <th>valence</th>\n",
       "      <th>music_genre</th>\n",
       "    </tr>\n",
       "  </thead>\n",
       "  <tbody>\n",
       "    <tr>\n",
       "      <th>5</th>\n",
       "      <td>47.0</td>\n",
       "      <td>0.00523</td>\n",
       "      <td>0.755</td>\n",
       "      <td>519468.0</td>\n",
       "      <td>0.731</td>\n",
       "      <td>0.854000</td>\n",
       "      <td>D</td>\n",
       "      <td>0.2160</td>\n",
       "      <td>-10.517</td>\n",
       "      <td>Minor</td>\n",
       "      <td>0.0412</td>\n",
       "      <td>?</td>\n",
       "      <td>0.6140</td>\n",
       "      <td>Electronic</td>\n",
       "    </tr>\n",
       "    <tr>\n",
       "      <th>32</th>\n",
       "      <td>45.0</td>\n",
       "      <td>0.02330</td>\n",
       "      <td>0.729</td>\n",
       "      <td>274286.0</td>\n",
       "      <td>0.869</td>\n",
       "      <td>0.585000</td>\n",
       "      <td>F</td>\n",
       "      <td>0.0944</td>\n",
       "      <td>-7.569</td>\n",
       "      <td>Minor</td>\n",
       "      <td>0.1290</td>\n",
       "      <td>?</td>\n",
       "      <td>0.1380</td>\n",
       "      <td>Electronic</td>\n",
       "    </tr>\n",
       "    <tr>\n",
       "      <th>35</th>\n",
       "      <td>33.0</td>\n",
       "      <td>0.10800</td>\n",
       "      <td>0.493</td>\n",
       "      <td>-1.0</td>\n",
       "      <td>0.682</td>\n",
       "      <td>0.000000</td>\n",
       "      <td>A</td>\n",
       "      <td>0.1960</td>\n",
       "      <td>-5.781</td>\n",
       "      <td>Minor</td>\n",
       "      <td>0.2870</td>\n",
       "      <td>?</td>\n",
       "      <td>0.2390</td>\n",
       "      <td>Electronic</td>\n",
       "    </tr>\n",
       "    <tr>\n",
       "      <th>36</th>\n",
       "      <td>45.0</td>\n",
       "      <td>0.04780</td>\n",
       "      <td>0.646</td>\n",
       "      <td>253333.0</td>\n",
       "      <td>0.649</td>\n",
       "      <td>0.002520</td>\n",
       "      <td>G</td>\n",
       "      <td>0.3530</td>\n",
       "      <td>-5.259</td>\n",
       "      <td>Major</td>\n",
       "      <td>0.1170</td>\n",
       "      <td>?</td>\n",
       "      <td>0.7270</td>\n",
       "      <td>Electronic</td>\n",
       "    </tr>\n",
       "    <tr>\n",
       "      <th>39</th>\n",
       "      <td>37.0</td>\n",
       "      <td>0.20300</td>\n",
       "      <td>0.769</td>\n",
       "      <td>429941.0</td>\n",
       "      <td>0.551</td>\n",
       "      <td>0.882000</td>\n",
       "      <td>A#</td>\n",
       "      <td>0.1090</td>\n",
       "      <td>-12.520</td>\n",
       "      <td>Minor</td>\n",
       "      <td>0.0408</td>\n",
       "      <td>?</td>\n",
       "      <td>0.0618</td>\n",
       "      <td>Electronic</td>\n",
       "    </tr>\n",
       "    <tr>\n",
       "      <th>...</th>\n",
       "      <td>...</td>\n",
       "      <td>...</td>\n",
       "      <td>...</td>\n",
       "      <td>...</td>\n",
       "      <td>...</td>\n",
       "      <td>...</td>\n",
       "      <td>...</td>\n",
       "      <td>...</td>\n",
       "      <td>...</td>\n",
       "      <td>...</td>\n",
       "      <td>...</td>\n",
       "      <td>...</td>\n",
       "      <td>...</td>\n",
       "      <td>...</td>\n",
       "    </tr>\n",
       "    <tr>\n",
       "      <th>49913</th>\n",
       "      <td>58.0</td>\n",
       "      <td>0.29600</td>\n",
       "      <td>0.379</td>\n",
       "      <td>292520.0</td>\n",
       "      <td>0.644</td>\n",
       "      <td>0.000000</td>\n",
       "      <td>A#</td>\n",
       "      <td>0.3130</td>\n",
       "      <td>-7.933</td>\n",
       "      <td>Minor</td>\n",
       "      <td>0.1120</td>\n",
       "      <td>?</td>\n",
       "      <td>0.1440</td>\n",
       "      <td>Hip-Hop</td>\n",
       "    </tr>\n",
       "    <tr>\n",
       "      <th>49959</th>\n",
       "      <td>59.0</td>\n",
       "      <td>0.08470</td>\n",
       "      <td>0.929</td>\n",
       "      <td>215200.0</td>\n",
       "      <td>0.737</td>\n",
       "      <td>0.000000</td>\n",
       "      <td>G#</td>\n",
       "      <td>0.8610</td>\n",
       "      <td>-6.424</td>\n",
       "      <td>Major</td>\n",
       "      <td>0.1020</td>\n",
       "      <td>?</td>\n",
       "      <td>0.8860</td>\n",
       "      <td>Hip-Hop</td>\n",
       "    </tr>\n",
       "    <tr>\n",
       "      <th>49962</th>\n",
       "      <td>62.0</td>\n",
       "      <td>0.17900</td>\n",
       "      <td>0.860</td>\n",
       "      <td>233293.0</td>\n",
       "      <td>0.625</td>\n",
       "      <td>0.000136</td>\n",
       "      <td>D</td>\n",
       "      <td>0.3000</td>\n",
       "      <td>-6.922</td>\n",
       "      <td>Major</td>\n",
       "      <td>0.1050</td>\n",
       "      <td>?</td>\n",
       "      <td>0.2210</td>\n",
       "      <td>Hip-Hop</td>\n",
       "    </tr>\n",
       "    <tr>\n",
       "      <th>49971</th>\n",
       "      <td>52.0</td>\n",
       "      <td>0.70000</td>\n",
       "      <td>0.462</td>\n",
       "      <td>225067.0</td>\n",
       "      <td>0.741</td>\n",
       "      <td>0.000000</td>\n",
       "      <td>A#</td>\n",
       "      <td>0.3400</td>\n",
       "      <td>-8.008</td>\n",
       "      <td>Minor</td>\n",
       "      <td>0.1620</td>\n",
       "      <td>?</td>\n",
       "      <td>0.5890</td>\n",
       "      <td>Hip-Hop</td>\n",
       "    </tr>\n",
       "    <tr>\n",
       "      <th>49972</th>\n",
       "      <td>58.0</td>\n",
       "      <td>0.10500</td>\n",
       "      <td>0.905</td>\n",
       "      <td>240627.0</td>\n",
       "      <td>0.414</td>\n",
       "      <td>0.000366</td>\n",
       "      <td>G#</td>\n",
       "      <td>0.0914</td>\n",
       "      <td>-8.112</td>\n",
       "      <td>Minor</td>\n",
       "      <td>0.0615</td>\n",
       "      <td>?</td>\n",
       "      <td>0.7580</td>\n",
       "      <td>Hip-Hop</td>\n",
       "    </tr>\n",
       "  </tbody>\n",
       "</table>\n",
       "<p>4720 rows × 14 columns</p>\n",
       "</div>"
      ],
      "text/plain": [
       "       popularity  acousticness  danceability  duration_ms  energy  \\\n",
       "5            47.0       0.00523         0.755     519468.0   0.731   \n",
       "32           45.0       0.02330         0.729     274286.0   0.869   \n",
       "35           33.0       0.10800         0.493         -1.0   0.682   \n",
       "36           45.0       0.04780         0.646     253333.0   0.649   \n",
       "39           37.0       0.20300         0.769     429941.0   0.551   \n",
       "...           ...           ...           ...          ...     ...   \n",
       "49913        58.0       0.29600         0.379     292520.0   0.644   \n",
       "49959        59.0       0.08470         0.929     215200.0   0.737   \n",
       "49962        62.0       0.17900         0.860     233293.0   0.625   \n",
       "49971        52.0       0.70000         0.462     225067.0   0.741   \n",
       "49972        58.0       0.10500         0.905     240627.0   0.414   \n",
       "\n",
       "       instrumentalness key  liveness  loudness   mode  speechiness tempo  \\\n",
       "5              0.854000   D    0.2160   -10.517  Minor       0.0412     ?   \n",
       "32             0.585000   F    0.0944    -7.569  Minor       0.1290     ?   \n",
       "35             0.000000   A    0.1960    -5.781  Minor       0.2870     ?   \n",
       "36             0.002520   G    0.3530    -5.259  Major       0.1170     ?   \n",
       "39             0.882000  A#    0.1090   -12.520  Minor       0.0408     ?   \n",
       "...                 ...  ..       ...       ...    ...          ...   ...   \n",
       "49913          0.000000  A#    0.3130    -7.933  Minor       0.1120     ?   \n",
       "49959          0.000000  G#    0.8610    -6.424  Major       0.1020     ?   \n",
       "49962          0.000136   D    0.3000    -6.922  Major       0.1050     ?   \n",
       "49971          0.000000  A#    0.3400    -8.008  Minor       0.1620     ?   \n",
       "49972          0.000366  G#    0.0914    -8.112  Minor       0.0615     ?   \n",
       "\n",
       "       valence music_genre  \n",
       "5       0.6140  Electronic  \n",
       "32      0.1380  Electronic  \n",
       "35      0.2390  Electronic  \n",
       "36      0.7270  Electronic  \n",
       "39      0.0618  Electronic  \n",
       "...        ...         ...  \n",
       "49913   0.1440     Hip-Hop  \n",
       "49959   0.8860     Hip-Hop  \n",
       "49962   0.2210     Hip-Hop  \n",
       "49971   0.5890     Hip-Hop  \n",
       "49972   0.7580     Hip-Hop  \n",
       "\n",
       "[4720 rows x 14 columns]"
      ]
     },
     "execution_count": 41,
     "metadata": {},
     "output_type": "execute_result"
    }
   ],
   "source": [
    "music[music[\"tempo\"] == \"?\"]"
   ]
  },
  {
   "cell_type": "markdown",
   "id": "e4667ab6",
   "metadata": {},
   "source": [
    "In general, incorrect values could be replaced by estimated (right, plausible) values or those of neighboring cells, but in this case, this strategy is not practicable. Because the sequence of the rows is arbitrary, assigning a value similar to the one in the prior or next sample would be impossible. Similarly, the mode or median of a feature would be incorrect. A possible solution to this problem is to categorize samples by genre and enter a mean tempo value for each class. To keep the process as simple as feasible, all rows with incorrect tempo values are eliminated. Following that, their type is changed to \"float.\""
   ]
  },
  {
   "cell_type": "code",
   "execution_count": 42,
   "id": "ddae632e",
   "metadata": {},
   "outputs": [],
   "source": [
    "music = music.drop(music[music[\"tempo\"] == \"?\"].index)"
   ]
  },
  {
   "cell_type": "code",
   "execution_count": 43,
   "id": "8656716d",
   "metadata": {},
   "outputs": [],
   "source": [
    "music[\"tempo\"] = music[\"tempo\"].astype(\"float\")"
   ]
  },
  {
   "cell_type": "code",
   "execution_count": 44,
   "id": "b1b6f141",
   "metadata": {},
   "outputs": [],
   "source": [
    "music[\"tempo\"] = np.around(music[\"tempo\"], decimals = 2)"
   ]
  },
  {
   "cell_type": "markdown",
   "id": "99c48a11",
   "metadata": {},
   "source": [
    "Distributions can only be displayed for features with numerical values. As a result, they are kept in a distinct variable."
   ]
  },
  {
   "cell_type": "code",
   "execution_count": 45,
   "id": "cf493a09",
   "metadata": {},
   "outputs": [],
   "source": [
    "numeric_features = music.drop([\"key\", \"music_genre\", \"mode\"], axis = 1)"
   ]
  },
  {
   "cell_type": "markdown",
   "id": "88d07680",
   "metadata": {},
   "source": [
    "The following code lines show the distributions of all numerical features on subplots. They are then interpreted."
   ]
  },
  {
   "cell_type": "code",
   "execution_count": 46,
   "id": "22900e5a",
   "metadata": {},
   "outputs": [
    {
     "data": {
      "image/png": "[encoded data removed]",
      "text/plain": [
       "<Figure size 1500x1500 with 11 Axes>"
      ]
     },
     "metadata": {},
     "output_type": "display_data"
    }
   ],
   "source": [
    "fig, axs = plt.subplots(ncols = 3, nrows = 4, figsize = (15, 15))\n",
    "fig.delaxes(axs[3][2])\n",
    "index = 0\n",
    "\n",
    "axs = axs.flatten()\n",
    "for k, v in numeric_features.items():\n",
    "    sns.histplot(v, ax = axs[index])\n",
    "    index += 1\n",
    "plt.tight_layout(pad = 0.4, w_pad = 0.5, h_pad = 5.0)"
   ]
  },
  {
   "cell_type": "markdown",
   "id": "b65de7ce",
   "metadata": {},
   "source": [
    "The distribution of popularity is bimodal, with maxima at roughly 48 and 55. Some values have substantially greater frequencies than others. In truth, it's unclear what \"popularity\" implies in this context - the number of weeks in a chart, or the amount of points acquired after a poll (for example)."
   ]
  },
  {
   "cell_type": "markdown",
   "id": "4eaeb655",
   "metadata": {},
   "source": [
    "Acousticity is assessed on a scale of 0.0 (not acoustic) to 1.0 (extremely acoustic) (very acoustic). Acoustic and non-electronic instruments are more likely to be used in songs with a higher acousticness. The second subplot demonstrates that the majority of songs and music pieces are not acoustic."
   ]
  },
  {
   "cell_type": "markdown",
   "id": "3905e374",
   "metadata": {},
   "source": [
    "The danceability of a track is determined by a mixture of musical factors such as pace, rhythm, and beat. Songs with a higher danceability have more consistent and stronger beats. Danceability, like acousticness, is rated on a scale of 0.0 (low danceability) to 1.0 (high danceability) (high danceability). Values in this attribute have a more or less normal distribution in terms of danceability."
   ]
  },
  {
   "cell_type": "markdown",
   "id": "dd860f86",
   "metadata": {},
   "source": [
    "Music duration is given in milliseconds. Most samples are not longer than 0.3e6 (300 000) milliseconds, or 300 seconds, or exactly 5 minutes. Sounds reasonable."
   ]
  },
  {
   "cell_type": "markdown",
   "id": "82790d15",
   "metadata": {},
   "source": [
    "The perceived intensity and activity of a music is measured by energy. Energy is also quantified on a scale from 0.0 (low energy) to 1.0 (high energy) (high energy). Higher intensity songs are more passionate, energetic, and loud. The distribution on the fifth subplot reveals that the majority of the music pieces are described with energy."
   ]
  },
  {
   "cell_type": "markdown",
   "id": "6e2e3a5b",
   "metadata": {},
   "source": [
    "Instrumentality, on the other hand, predicts whether a piece has vocals. The level of instrumentality is scaled from 0.0 (probably contains vocal content) to 1.0. (likely contains no vocal content). Instrumental songs are less likely to have vocals. The distribution of values in terms of instrumentalness is extremely skewed - most samples have a value of 0 or close to 0, indicating that the songs contain vocal content."
   ]
  },
  {
   "cell_type": "markdown",
   "id": "c59b8bf0",
   "metadata": {},
   "source": [
    "The presence of an audience in a song is detected by liveness. Liveness is also graded on a scale of 0.0 (no audience) to 1.0 (large audience) (audible audience). Songs having a higher liveness have a better chance of being performed live. The songs in our dataset appear to be performed without an audience, as most liveness ratings are near to 0.0 rather than 1.0."
   ]
  },
  {
   "cell_type": "markdown",
   "id": "3e88bc8e",
   "metadata": {},
   "source": [
    "The next characteristic is loudness, which measures a song's decibel level. Because decibels are relative to a reference value, songs with lower loudness values are quieter than songs with higher loudness values. Taking this into consideration, the value distribution in loudness reveals that the majority of music samples are quieter (their loudness is closer to 0)."
   ]
  },
  {
   "cell_type": "markdown",
   "id": "0abf1c14",
   "metadata": {},
   "source": [
    "The presence of spoken words in a music is measured by speechiness. It is graded on a scale of 0.0 (no speechiness) to 1.0 (extreme speechiness) (high speechiness). Songs with a higher level of speechiness are largely made up of spoken words, similar to poetry or a talk show. The distribution of speechiness is tilted to the right - most songs/pieces appear to have no or very few spoken words."
   ]
  },
  {
   "cell_type": "markdown",
   "id": "c4f8d8e7",
   "metadata": {},
   "source": [
    "A song's tempo is measured in beats per minute (bpm). Many popular songs have tempos ranging from 50 to 200 beats per minute. Songs with a greater tempo move faster. The distribution of tempo values resembles that of \"popularity.\""
   ]
  },
  {
   "cell_type": "markdown",
   "id": "571bf4bb",
   "metadata": {},
   "source": [
    "Finally, valence assesses a song's positive. It is graded on a scale of 0.0 (low valence) to 1.0 (high valence) (high valence). Higher valence songs sound happier and more cheery. The valence distribution in our sample is not normal; the valence of most songs ranges between 0.2 and 0.7. Only a small percentage of songs have a high valence."
   ]
  },
  {
   "cell_type": "markdown",
   "id": "5e642d10",
   "metadata": {},
   "source": [
    "The code lines below will assist you in presenting numerical features on boxplots. The latter are extremely effective for detecting outliers, or extreme or incorrect values in a feature. Outliers may skew model training and inference. As a result, removing them is a good practice (where possible and justifiable). A summary of outliers is provided below the graphs."
   ]
  },
  {
   "cell_type": "code",
   "execution_count": 47,
   "id": "f42dd832",
   "metadata": {},
   "outputs": [
    {
     "data": {
      "image/png": "[encoded data removed]",
      "text/plain": [
       "<Figure size 1500x1500 with 11 Axes>"
      ]
     },
     "metadata": {},
     "output_type": "display_data"
    }
   ],
   "source": [
    "fig, axs = plt.subplots(ncols = 3, nrows = 4, figsize = (15, 15))\n",
    "fig.delaxes(axs[3][2])\n",
    "idx = 0\n",
    "axs = axs.flatten()\n",
    "for k, v in numeric_features.items():\n",
    "    sns.boxplot(y = k, data = numeric_features, ax = axs[idx])\n",
    "    idx += 1\n",
    "plt.tight_layout(pad = 0.4, w_pad = 0.5, h_pad = 5.0)"
   ]
  },
  {
   "cell_type": "markdown",
   "id": "563166dd",
   "metadata": {},
   "source": [
    "There are a few outliers in popularity, danceability, and tempo. On the other side, there are numerous extreme values in duration, instrumentlness, liveness, loudness, and speechiness. Outliers are not deleted because the ultimate goal of this exercise is to interpret classification outputs rather than devise the best model."
   ]
  },
  {
   "cell_type": "markdown",
   "id": "e5a0e008",
   "metadata": {},
   "source": [
    "# VI. Encode categorical data"
   ]
  },
  {
   "cell_type": "markdown",
   "id": "c855c026",
   "metadata": {},
   "source": [
    "Most Machine Learning algorithms are incapable of working with strings; they expect numerical values in each feature. It is better to one-shot encode categorical features (those with string values), i.e., to increase the number of features so that each class's values are placed in a distinct column. Where the sample corresponds to the provided class, it receives a 1 in the corresponding feature; all others receive a zero. Instead, in this experiment, categorical data are encoded using LabelEncoder (). Each class is given a number (integer). As a result, five unique classes in a categorical variable will receive values ranging from 0 to 4. It is worth noting that LabelEncoder() remembers the classes. As a result, an encoder is created for each classified variable. The labels (i.e., the music genre) are not encoded, which simplifies and clarifies interpretation. String labels are accepted by tree-based algorithms."
   ]
  },
  {
   "cell_type": "code",
   "execution_count": null,
   "id": "ce238c18",
   "metadata": {},
   "outputs": [],
   "source": []
  },
  {
   "cell_type": "markdown",
   "id": "8f790a25",
   "metadata": {},
   "source": [
    "# VI.1. Encode key feature"
   ]
  },
  {
   "cell_type": "code",
   "execution_count": 48,
   "id": "8bc69329",
   "metadata": {},
   "outputs": [],
   "source": [
    "key_encoder = LabelEncoder()"
   ]
  },
  {
   "cell_type": "code",
   "execution_count": 49,
   "id": "302bff65",
   "metadata": {},
   "outputs": [],
   "source": [
    "music[\"key\"] = key_encoder.fit_transform(music[\"key\"])"
   ]
  },
  {
   "cell_type": "code",
   "execution_count": 50,
   "id": "5c07e291",
   "metadata": {},
   "outputs": [
    {
     "data": {
      "text/html": [
       "<div>\n",
       "<style scoped>\n",
       "    .dataframe tbody tr th:only-of-type {\n",
       "        vertical-align: middle;\n",
       "    }\n",
       "\n",
       "    .dataframe tbody tr th {\n",
       "        vertical-align: top;\n",
       "    }\n",
       "\n",
       "    .dataframe thead th {\n",
       "        text-align: right;\n",
       "    }\n",
       "</style>\n",
       "<table border=\"1\" class=\"dataframe\">\n",
       "  <thead>\n",
       "    <tr style=\"text-align: right;\">\n",
       "      <th></th>\n",
       "      <th>popularity</th>\n",
       "      <th>acousticness</th>\n",
       "      <th>danceability</th>\n",
       "      <th>duration_ms</th>\n",
       "      <th>energy</th>\n",
       "      <th>instrumentalness</th>\n",
       "      <th>key</th>\n",
       "      <th>liveness</th>\n",
       "      <th>loudness</th>\n",
       "      <th>mode</th>\n",
       "      <th>speechiness</th>\n",
       "      <th>tempo</th>\n",
       "      <th>valence</th>\n",
       "      <th>music_genre</th>\n",
       "    </tr>\n",
       "  </thead>\n",
       "  <tbody>\n",
       "    <tr>\n",
       "      <th>0</th>\n",
       "      <td>27.0</td>\n",
       "      <td>0.00468</td>\n",
       "      <td>0.652</td>\n",
       "      <td>-1.0</td>\n",
       "      <td>0.941</td>\n",
       "      <td>0.79200</td>\n",
       "      <td>1</td>\n",
       "      <td>0.115</td>\n",
       "      <td>-5.201</td>\n",
       "      <td>Minor</td>\n",
       "      <td>0.0748</td>\n",
       "      <td>100.89</td>\n",
       "      <td>0.759</td>\n",
       "      <td>Electronic</td>\n",
       "    </tr>\n",
       "    <tr>\n",
       "      <th>1</th>\n",
       "      <td>31.0</td>\n",
       "      <td>0.01270</td>\n",
       "      <td>0.622</td>\n",
       "      <td>218293.0</td>\n",
       "      <td>0.890</td>\n",
       "      <td>0.95000</td>\n",
       "      <td>5</td>\n",
       "      <td>0.124</td>\n",
       "      <td>-7.043</td>\n",
       "      <td>Minor</td>\n",
       "      <td>0.0300</td>\n",
       "      <td>115.00</td>\n",
       "      <td>0.531</td>\n",
       "      <td>Electronic</td>\n",
       "    </tr>\n",
       "    <tr>\n",
       "      <th>2</th>\n",
       "      <td>28.0</td>\n",
       "      <td>0.00306</td>\n",
       "      <td>0.620</td>\n",
       "      <td>215613.0</td>\n",
       "      <td>0.755</td>\n",
       "      <td>0.01180</td>\n",
       "      <td>11</td>\n",
       "      <td>0.534</td>\n",
       "      <td>-4.617</td>\n",
       "      <td>Major</td>\n",
       "      <td>0.0345</td>\n",
       "      <td>127.99</td>\n",
       "      <td>0.333</td>\n",
       "      <td>Electronic</td>\n",
       "    </tr>\n",
       "    <tr>\n",
       "      <th>3</th>\n",
       "      <td>34.0</td>\n",
       "      <td>0.02540</td>\n",
       "      <td>0.774</td>\n",
       "      <td>166875.0</td>\n",
       "      <td>0.700</td>\n",
       "      <td>0.00253</td>\n",
       "      <td>4</td>\n",
       "      <td>0.157</td>\n",
       "      <td>-4.498</td>\n",
       "      <td>Major</td>\n",
       "      <td>0.2390</td>\n",
       "      <td>128.01</td>\n",
       "      <td>0.270</td>\n",
       "      <td>Electronic</td>\n",
       "    </tr>\n",
       "    <tr>\n",
       "      <th>4</th>\n",
       "      <td>32.0</td>\n",
       "      <td>0.00465</td>\n",
       "      <td>0.638</td>\n",
       "      <td>222369.0</td>\n",
       "      <td>0.587</td>\n",
       "      <td>0.90900</td>\n",
       "      <td>9</td>\n",
       "      <td>0.157</td>\n",
       "      <td>-6.266</td>\n",
       "      <td>Major</td>\n",
       "      <td>0.0413</td>\n",
       "      <td>145.04</td>\n",
       "      <td>0.323</td>\n",
       "      <td>Electronic</td>\n",
       "    </tr>\n",
       "  </tbody>\n",
       "</table>\n",
       "</div>"
      ],
      "text/plain": [
       "   popularity  acousticness  danceability  duration_ms  energy  \\\n",
       "0        27.0       0.00468         0.652         -1.0   0.941   \n",
       "1        31.0       0.01270         0.622     218293.0   0.890   \n",
       "2        28.0       0.00306         0.620     215613.0   0.755   \n",
       "3        34.0       0.02540         0.774     166875.0   0.700   \n",
       "4        32.0       0.00465         0.638     222369.0   0.587   \n",
       "\n",
       "   instrumentalness  key  liveness  loudness   mode  speechiness   tempo  \\\n",
       "0           0.79200    1     0.115    -5.201  Minor       0.0748  100.89   \n",
       "1           0.95000    5     0.124    -7.043  Minor       0.0300  115.00   \n",
       "2           0.01180   11     0.534    -4.617  Major       0.0345  127.99   \n",
       "3           0.00253    4     0.157    -4.498  Major       0.2390  128.01   \n",
       "4           0.90900    9     0.157    -6.266  Major       0.0413  145.04   \n",
       "\n",
       "   valence music_genre  \n",
       "0    0.759  Electronic  \n",
       "1    0.531  Electronic  \n",
       "2    0.333  Electronic  \n",
       "3    0.270  Electronic  \n",
       "4    0.323  Electronic  "
      ]
     },
     "execution_count": 50,
     "metadata": {},
     "output_type": "execute_result"
    }
   ],
   "source": [
    "music.head()"
   ]
  },
  {
   "cell_type": "markdown",
   "id": "84b2687f",
   "metadata": {},
   "source": [
    "Values in key column were successfully encoded. Corresponding classes are displayed below."
   ]
  },
  {
   "cell_type": "code",
   "execution_count": 51,
   "id": "4fa08457",
   "metadata": {},
   "outputs": [
    {
     "data": {
      "text/plain": [
       "array(['A', 'A#', 'B', 'C', 'C#', 'D', 'D#', 'E', 'F', 'F#', 'G', 'G#',\n",
       "       nan], dtype=object)"
      ]
     },
     "execution_count": 51,
     "metadata": {},
     "output_type": "execute_result"
    }
   ],
   "source": [
    "key_encoder.classes_"
   ]
  },
  {
   "cell_type": "markdown",
   "id": "8d8eefcc",
   "metadata": {},
   "source": [
    "# IV.2. Encode mode feature"
   ]
  },
  {
   "cell_type": "code",
   "execution_count": 52,
   "id": "d427367f",
   "metadata": {},
   "outputs": [],
   "source": [
    "mode_encoder = LabelEncoder()"
   ]
  },
  {
   "cell_type": "code",
   "execution_count": 53,
   "id": "5f3d6514",
   "metadata": {},
   "outputs": [],
   "source": [
    "music[\"mode\"] = mode_encoder.fit_transform(music[\"mode\"])"
   ]
  },
  {
   "cell_type": "code",
   "execution_count": 54,
   "id": "f5a745a3",
   "metadata": {},
   "outputs": [
    {
     "data": {
      "text/html": [
       "<div>\n",
       "<style scoped>\n",
       "    .dataframe tbody tr th:only-of-type {\n",
       "        vertical-align: middle;\n",
       "    }\n",
       "\n",
       "    .dataframe tbody tr th {\n",
       "        vertical-align: top;\n",
       "    }\n",
       "\n",
       "    .dataframe thead th {\n",
       "        text-align: right;\n",
       "    }\n",
       "</style>\n",
       "<table border=\"1\" class=\"dataframe\">\n",
       "  <thead>\n",
       "    <tr style=\"text-align: right;\">\n",
       "      <th></th>\n",
       "      <th>popularity</th>\n",
       "      <th>acousticness</th>\n",
       "      <th>danceability</th>\n",
       "      <th>duration_ms</th>\n",
       "      <th>energy</th>\n",
       "      <th>instrumentalness</th>\n",
       "      <th>key</th>\n",
       "      <th>liveness</th>\n",
       "      <th>loudness</th>\n",
       "      <th>mode</th>\n",
       "      <th>speechiness</th>\n",
       "      <th>tempo</th>\n",
       "      <th>valence</th>\n",
       "      <th>music_genre</th>\n",
       "    </tr>\n",
       "  </thead>\n",
       "  <tbody>\n",
       "    <tr>\n",
       "      <th>0</th>\n",
       "      <td>27.0</td>\n",
       "      <td>0.00468</td>\n",
       "      <td>0.652</td>\n",
       "      <td>-1.0</td>\n",
       "      <td>0.941</td>\n",
       "      <td>0.79200</td>\n",
       "      <td>1</td>\n",
       "      <td>0.115</td>\n",
       "      <td>-5.201</td>\n",
       "      <td>1</td>\n",
       "      <td>0.0748</td>\n",
       "      <td>100.89</td>\n",
       "      <td>0.759</td>\n",
       "      <td>Electronic</td>\n",
       "    </tr>\n",
       "    <tr>\n",
       "      <th>1</th>\n",
       "      <td>31.0</td>\n",
       "      <td>0.01270</td>\n",
       "      <td>0.622</td>\n",
       "      <td>218293.0</td>\n",
       "      <td>0.890</td>\n",
       "      <td>0.95000</td>\n",
       "      <td>5</td>\n",
       "      <td>0.124</td>\n",
       "      <td>-7.043</td>\n",
       "      <td>1</td>\n",
       "      <td>0.0300</td>\n",
       "      <td>115.00</td>\n",
       "      <td>0.531</td>\n",
       "      <td>Electronic</td>\n",
       "    </tr>\n",
       "    <tr>\n",
       "      <th>2</th>\n",
       "      <td>28.0</td>\n",
       "      <td>0.00306</td>\n",
       "      <td>0.620</td>\n",
       "      <td>215613.0</td>\n",
       "      <td>0.755</td>\n",
       "      <td>0.01180</td>\n",
       "      <td>11</td>\n",
       "      <td>0.534</td>\n",
       "      <td>-4.617</td>\n",
       "      <td>0</td>\n",
       "      <td>0.0345</td>\n",
       "      <td>127.99</td>\n",
       "      <td>0.333</td>\n",
       "      <td>Electronic</td>\n",
       "    </tr>\n",
       "    <tr>\n",
       "      <th>3</th>\n",
       "      <td>34.0</td>\n",
       "      <td>0.02540</td>\n",
       "      <td>0.774</td>\n",
       "      <td>166875.0</td>\n",
       "      <td>0.700</td>\n",
       "      <td>0.00253</td>\n",
       "      <td>4</td>\n",
       "      <td>0.157</td>\n",
       "      <td>-4.498</td>\n",
       "      <td>0</td>\n",
       "      <td>0.2390</td>\n",
       "      <td>128.01</td>\n",
       "      <td>0.270</td>\n",
       "      <td>Electronic</td>\n",
       "    </tr>\n",
       "    <tr>\n",
       "      <th>4</th>\n",
       "      <td>32.0</td>\n",
       "      <td>0.00465</td>\n",
       "      <td>0.638</td>\n",
       "      <td>222369.0</td>\n",
       "      <td>0.587</td>\n",
       "      <td>0.90900</td>\n",
       "      <td>9</td>\n",
       "      <td>0.157</td>\n",
       "      <td>-6.266</td>\n",
       "      <td>0</td>\n",
       "      <td>0.0413</td>\n",
       "      <td>145.04</td>\n",
       "      <td>0.323</td>\n",
       "      <td>Electronic</td>\n",
       "    </tr>\n",
       "  </tbody>\n",
       "</table>\n",
       "</div>"
      ],
      "text/plain": [
       "   popularity  acousticness  danceability  duration_ms  energy  \\\n",
       "0        27.0       0.00468         0.652         -1.0   0.941   \n",
       "1        31.0       0.01270         0.622     218293.0   0.890   \n",
       "2        28.0       0.00306         0.620     215613.0   0.755   \n",
       "3        34.0       0.02540         0.774     166875.0   0.700   \n",
       "4        32.0       0.00465         0.638     222369.0   0.587   \n",
       "\n",
       "   instrumentalness  key  liveness  loudness  mode  speechiness   tempo  \\\n",
       "0           0.79200    1     0.115    -5.201     1       0.0748  100.89   \n",
       "1           0.95000    5     0.124    -7.043     1       0.0300  115.00   \n",
       "2           0.01180   11     0.534    -4.617     0       0.0345  127.99   \n",
       "3           0.00253    4     0.157    -4.498     0       0.2390  128.01   \n",
       "4           0.90900    9     0.157    -6.266     0       0.0413  145.04   \n",
       "\n",
       "   valence music_genre  \n",
       "0    0.759  Electronic  \n",
       "1    0.531  Electronic  \n",
       "2    0.333  Electronic  \n",
       "3    0.270  Electronic  \n",
       "4    0.323  Electronic  "
      ]
     },
     "execution_count": 54,
     "metadata": {},
     "output_type": "execute_result"
    }
   ],
   "source": [
    "music.head()"
   ]
  },
  {
   "cell_type": "markdown",
   "id": "e0dfd341",
   "metadata": {},
   "source": [
    "mode column was successfully encoded, too. Classes are memorized by the encoder as shown below."
   ]
  },
  {
   "cell_type": "code",
   "execution_count": 55,
   "id": "5a2e1f6d",
   "metadata": {},
   "outputs": [
    {
     "data": {
      "text/plain": [
       "array(['Major', 'Minor', nan], dtype=object)"
      ]
     },
     "execution_count": 55,
     "metadata": {},
     "output_type": "execute_result"
    }
   ],
   "source": [
    "mode_encoder.classes_"
   ]
  },
  {
   "cell_type": "markdown",
   "id": "843ea7dc",
   "metadata": {},
   "source": [
    "# V. Preprocess data"
   ]
  },
  {
   "cell_type": "markdown",
   "id": "ecc56a8e",
   "metadata": {},
   "source": [
    "Preporcessing involves preparing the dataset for modelling. Labels are separated from features; the latter are scaled; both sets are split into training, validation, and testing data."
   ]
  },
  {
   "cell_type": "markdown",
   "id": "8b340bf6",
   "metadata": {},
   "source": [
    "# V.1. Separate labels from features"
   ]
  },
  {
   "cell_type": "code",
   "execution_count": 56,
   "id": "9374bebc",
   "metadata": {},
   "outputs": [],
   "source": [
    "music_features = music.drop(\"music_genre\", axis = 1)\n",
    "music_labels = music[\"music_genre\"]"
   ]
  },
  {
   "cell_type": "markdown",
   "id": "c3e556ed",
   "metadata": {},
   "source": [
    "# V.2. Scale features"
   ]
  },
  {
   "cell_type": "markdown",
   "id": "44991990",
   "metadata": {},
   "source": [
    "Scaling data means to make all values in all variables within the same range. MinMaxScaler() (i.e., to make all values between 0 and 1) is the most widely used scaling technique. However, StandardScaler() handles much better datasets with outliers. It makes all values centered around 0 with standard deviation of 1. The steps are executed below."
   ]
  },
  {
   "cell_type": "code",
   "execution_count": 57,
   "id": "192ea9e4",
   "metadata": {},
   "outputs": [],
   "source": [
    "scaler = StandardScaler()"
   ]
  },
  {
   "cell_type": "code",
   "execution_count": 58,
   "id": "049b5084",
   "metadata": {},
   "outputs": [],
   "source": [
    "music_features_scaled = scaler.fit_transform(music_features)"
   ]
  },
  {
   "cell_type": "code",
   "execution_count": 59,
   "id": "eef9cef1",
   "metadata": {},
   "outputs": [
    {
     "data": {
      "text/plain": [
       "-6.21226746894394e-15"
      ]
     },
     "execution_count": 59,
     "metadata": {},
     "output_type": "execute_result"
    }
   ],
   "source": [
    "data=pd.DataFrame(music_features_scaled)\n",
    "data.mean().sum()"
   ]
  },
  {
   "cell_type": "code",
   "execution_count": 60,
   "id": "e578b381",
   "metadata": {},
   "outputs": [
    {
     "data": {
      "text/plain": [
       "13.000151906767304"
      ]
     },
     "execution_count": 60,
     "metadata": {},
     "output_type": "execute_result"
    }
   ],
   "source": [
    "data.std().sum()"
   ]
  },
  {
   "cell_type": "markdown",
   "id": "0cb43508",
   "metadata": {},
   "source": [
    "# V.3. Split data into train, validation, and test set"
   ]
  },
  {
   "cell_type": "markdown",
   "id": "605d3ddf",
   "metadata": {},
   "source": [
    "The data is divided into three sets: train, validation, and test. The algorithm is trained using the first, validated using the second, and tested using the third. A small percentage is set aside for testing. A similar number of samples were reserved for validation. The code lines following are used to split the data. Following that, the form of the sets is examined."
   ]
  },
  {
   "cell_type": "code",
   "execution_count": 61,
   "id": "507a0aac",
   "metadata": {
    "scrolled": false
   },
   "outputs": [
    {
     "ename": "ValueError",
     "evalue": "Input contains NaN",
     "output_type": "error",
     "traceback": [
      "\u001b[1;31m---------------------------------------------------------------------------\u001b[0m",
      "\u001b[1;31mValueError\u001b[0m                                Traceback (most recent call last)",
      "\u001b[1;32mc:\\Users\\asusa\\OneDrive\\Desktop\\Music genre\\Music_genre.ipynb Cell 109\u001b[0m in \u001b[0;36m<cell line: 1>\u001b[1;34m()\u001b[0m\n\u001b[1;32m----> <a href='vscode-notebook-cell:/c%3A/Users/asusa/OneDrive/Desktop/Music%20genre/Music_genre.ipynb#Y213sZmlsZQ%3D%3D?line=0'>1</a>\u001b[0m tr_val_f, test_features, tr_val_l, test_labels \u001b[39m=\u001b[39m train_test_split(\n\u001b[0;32m      <a href='vscode-notebook-cell:/c%3A/Users/asusa/OneDrive/Desktop/Music%20genre/Music_genre.ipynb#Y213sZmlsZQ%3D%3D?line=1'>2</a>\u001b[0m     music_features_scaled, music_labels, test_size \u001b[39m=\u001b[39;49m \u001b[39m0.1\u001b[39;49m, stratify \u001b[39m=\u001b[39;49m music_labels)\n",
      "File \u001b[1;32mc:\\Users\\asusa\\anaconda3\\envs\\ml\\lib\\site-packages\\sklearn\\model_selection\\_split.py:2469\u001b[0m, in \u001b[0;36mtrain_test_split\u001b[1;34m(test_size, train_size, random_state, shuffle, stratify, *arrays)\u001b[0m\n\u001b[0;32m   2465\u001b[0m         CVClass \u001b[39m=\u001b[39m ShuffleSplit\n\u001b[0;32m   2467\u001b[0m     cv \u001b[39m=\u001b[39m CVClass(test_size\u001b[39m=\u001b[39mn_test, train_size\u001b[39m=\u001b[39mn_train, random_state\u001b[39m=\u001b[39mrandom_state)\n\u001b[1;32m-> 2469\u001b[0m     train, test \u001b[39m=\u001b[39m \u001b[39mnext\u001b[39m(cv\u001b[39m.\u001b[39;49msplit(X\u001b[39m=\u001b[39;49marrays[\u001b[39m0\u001b[39;49m], y\u001b[39m=\u001b[39;49mstratify))\n\u001b[0;32m   2471\u001b[0m \u001b[39mreturn\u001b[39;00m \u001b[39mlist\u001b[39m(\n\u001b[0;32m   2472\u001b[0m     chain\u001b[39m.\u001b[39mfrom_iterable(\n\u001b[0;32m   2473\u001b[0m         (_safe_indexing(a, train), _safe_indexing(a, test)) \u001b[39mfor\u001b[39;00m a \u001b[39min\u001b[39;00m arrays\n\u001b[0;32m   2474\u001b[0m     )\n\u001b[0;32m   2475\u001b[0m )\n",
      "File \u001b[1;32mc:\\Users\\asusa\\anaconda3\\envs\\ml\\lib\\site-packages\\sklearn\\model_selection\\_split.py:2050\u001b[0m, in \u001b[0;36mStratifiedShuffleSplit.split\u001b[1;34m(self, X, y, groups)\u001b[0m\n\u001b[0;32m   2016\u001b[0m \u001b[39mdef\u001b[39;00m \u001b[39msplit\u001b[39m(\u001b[39mself\u001b[39m, X, y, groups\u001b[39m=\u001b[39m\u001b[39mNone\u001b[39;00m):\n\u001b[0;32m   2017\u001b[0m     \u001b[39m\"\"\"Generate indices to split data into training and test set.\u001b[39;00m\n\u001b[0;32m   2018\u001b[0m \n\u001b[0;32m   2019\u001b[0m \u001b[39m    Parameters\u001b[39;00m\n\u001b[1;32m   (...)\u001b[0m\n\u001b[0;32m   2048\u001b[0m \u001b[39m    to an integer.\u001b[39;00m\n\u001b[0;32m   2049\u001b[0m \u001b[39m    \"\"\"\u001b[39;00m\n\u001b[1;32m-> 2050\u001b[0m     y \u001b[39m=\u001b[39m check_array(y, input_name\u001b[39m=\u001b[39;49m\u001b[39m\"\u001b[39;49m\u001b[39my\u001b[39;49m\u001b[39m\"\u001b[39;49m, ensure_2d\u001b[39m=\u001b[39;49m\u001b[39mFalse\u001b[39;49;00m, dtype\u001b[39m=\u001b[39;49m\u001b[39mNone\u001b[39;49;00m)\n\u001b[0;32m   2051\u001b[0m     \u001b[39mreturn\u001b[39;00m \u001b[39msuper\u001b[39m()\u001b[39m.\u001b[39msplit(X, y, groups)\n",
      "File \u001b[1;32mc:\\Users\\asusa\\anaconda3\\envs\\ml\\lib\\site-packages\\sklearn\\utils\\validation.py:899\u001b[0m, in \u001b[0;36mcheck_array\u001b[1;34m(array, accept_sparse, accept_large_sparse, dtype, order, copy, force_all_finite, ensure_2d, allow_nd, ensure_min_samples, ensure_min_features, estimator, input_name)\u001b[0m\n\u001b[0;32m    893\u001b[0m         \u001b[39mraise\u001b[39;00m \u001b[39mValueError\u001b[39;00m(\n\u001b[0;32m    894\u001b[0m             \u001b[39m\"\u001b[39m\u001b[39mFound array with dim \u001b[39m\u001b[39m%d\u001b[39;00m\u001b[39m. \u001b[39m\u001b[39m%s\u001b[39;00m\u001b[39m expected <= 2.\u001b[39m\u001b[39m\"\u001b[39m\n\u001b[0;32m    895\u001b[0m             \u001b[39m%\u001b[39m (array\u001b[39m.\u001b[39mndim, estimator_name)\n\u001b[0;32m    896\u001b[0m         )\n\u001b[0;32m    898\u001b[0m     \u001b[39mif\u001b[39;00m force_all_finite:\n\u001b[1;32m--> 899\u001b[0m         _assert_all_finite(\n\u001b[0;32m    900\u001b[0m             array,\n\u001b[0;32m    901\u001b[0m             input_name\u001b[39m=\u001b[39;49minput_name,\n\u001b[0;32m    902\u001b[0m             estimator_name\u001b[39m=\u001b[39;49mestimator_name,\n\u001b[0;32m    903\u001b[0m             allow_nan\u001b[39m=\u001b[39;49mforce_all_finite \u001b[39m==\u001b[39;49m \u001b[39m\"\u001b[39;49m\u001b[39mallow-nan\u001b[39;49m\u001b[39m\"\u001b[39;49m,\n\u001b[0;32m    904\u001b[0m         )\n\u001b[0;32m    906\u001b[0m \u001b[39mif\u001b[39;00m ensure_min_samples \u001b[39m>\u001b[39m \u001b[39m0\u001b[39m:\n\u001b[0;32m    907\u001b[0m     n_samples \u001b[39m=\u001b[39m _num_samples(array)\n",
      "File \u001b[1;32mc:\\Users\\asusa\\anaconda3\\envs\\ml\\lib\\site-packages\\sklearn\\utils\\validation.py:151\u001b[0m, in \u001b[0;36m_assert_all_finite\u001b[1;34m(X, allow_nan, msg_dtype, estimator_name, input_name)\u001b[0m\n\u001b[0;32m    149\u001b[0m \u001b[39melif\u001b[39;00m X\u001b[39m.\u001b[39mdtype \u001b[39m==\u001b[39m np\u001b[39m.\u001b[39mdtype(\u001b[39m\"\u001b[39m\u001b[39mobject\u001b[39m\u001b[39m\"\u001b[39m) \u001b[39mand\u001b[39;00m \u001b[39mnot\u001b[39;00m allow_nan:\n\u001b[0;32m    150\u001b[0m     \u001b[39mif\u001b[39;00m _object_dtype_isnan(X)\u001b[39m.\u001b[39many():\n\u001b[1;32m--> 151\u001b[0m         \u001b[39mraise\u001b[39;00m \u001b[39mValueError\u001b[39;00m(\u001b[39m\"\u001b[39m\u001b[39mInput contains NaN\u001b[39m\u001b[39m\"\u001b[39m)\n",
      "\u001b[1;31mValueError\u001b[0m: Input contains NaN"
     ]
    }
   ],
   "source": [
    "tr_val_f, test_features, tr_val_l, test_labels = train_test_split(\n",
    "    music_features_scaled, music_labels, test_size = 0.1, stratify = music_labels)"
   ]
  },
  {
   "cell_type": "code",
   "execution_count": null,
   "id": "2d3bf7f4",
   "metadata": {},
   "outputs": [
    {
     "ename": "NameError",
     "evalue": "name 'tr_val_f' is not defined",
     "output_type": "error",
     "traceback": [
      "\u001b[1;31m---------------------------------------------------------------------------\u001b[0m",
      "\u001b[1;31mNameError\u001b[0m                                 Traceback (most recent call last)",
      "Input \u001b[1;32mIn [75]\u001b[0m, in \u001b[0;36m<cell line: 1>\u001b[1;34m()\u001b[0m\n\u001b[0;32m      1\u001b[0m train_features, val_features, train_labels, val_labels \u001b[38;5;241m=\u001b[39m train_test_split(\n\u001b[1;32m----> 2\u001b[0m     \u001b[43mtr_val_f\u001b[49m, tr_val_l, test_size \u001b[38;5;241m=\u001b[39m \u001b[38;5;28mlen\u001b[39m(test_labels), stratify \u001b[38;5;241m=\u001b[39m tr_val_l)\n",
      "\u001b[1;31mNameError\u001b[0m: name 'tr_val_f' is not defined"
     ]
    }
   ],
   "source": [
    "train_features, val_features, train_labels, val_labels = train_test_split(\n",
    "    tr_val_f, tr_val_l, test_size = len(test_labels), stratify = tr_val_l)"
   ]
  },
  {
   "cell_type": "code",
   "execution_count": null,
   "id": "7f7dd30d",
   "metadata": {},
   "outputs": [
    {
     "ename": "NameError",
     "evalue": "name 'train_features' is not defined",
     "output_type": "error",
     "traceback": [
      "\u001b[1;31m---------------------------------------------------------------------------\u001b[0m",
      "\u001b[1;31mNameError\u001b[0m                                 Traceback (most recent call last)",
      "Input \u001b[1;32mIn [76]\u001b[0m, in \u001b[0;36m<cell line: 1>\u001b[1;34m()\u001b[0m\n\u001b[1;32m----> 1\u001b[0m \u001b[43mtrain_features\u001b[49m\u001b[38;5;241m.\u001b[39mshape, train_labels\u001b[38;5;241m.\u001b[39mshape, val_features\u001b[38;5;241m.\u001b[39mshape, val_labels\u001b[38;5;241m.\u001b[39mshape, test_features\u001b[38;5;241m.\u001b[39mshape,   test_labels\u001b[38;5;241m.\u001b[39mshape\n",
      "\u001b[1;31mNameError\u001b[0m: name 'train_features' is not defined"
     ]
    }
   ],
   "source": [
    "train_features.shape, train_labels.shape, val_features.shape, val_labels.shape, test_features.shape,   test_labels.shape"
   ]
  },
  {
   "cell_type": "markdown",
   "id": "6a45f1a0",
   "metadata": {},
   "source": [
    "# VI. Modelling "
   ]
  },
  {
   "cell_type": "markdown",
   "id": "5b0987a5",
   "metadata": {},
   "source": [
    "There are various classification algorithms. Random Forest is quite a common one. Its success, i.e., how well it will be capable to predict a label, will be measured with several success metrics. The most popular ones are \"accuracy\" and \"f1 score\". The former shows the ratio between true predictions and all samples ( accuracy=TP+TNTP+TN+FP+FN ). \"f1 score\" is the harmonic mean between \"precision\" ( TPTP+FP ) and \"recall\" ( TPTP+FN ). It is computed with the following formula:  f1score=2TP2TP+FP+FN ."
   ]
  },
  {
   "cell_type": "markdown",
   "id": "7eef88c8",
   "metadata": {},
   "source": [
    "GridSearchCV() is used to find a combination of hyper-parameters that returns the highest success metrics. It requires specifying one success metric; it is better to use \"f1_score\" instead the default one (\"accuracy\"). In general, \"accuracy\" is preferred when the class distribution is similar, while \"f1_score\" is used for imbalanced classes. Despite the similar distribution of genres in the music dataset, \"f1_score\" is a little bit more reliable. It should be instantiated with make_scorer before being passed to GridSearch().\n",
    "\n"
   ]
  },
  {
   "cell_type": "code",
   "execution_count": null,
   "id": "75411753",
   "metadata": {},
   "outputs": [],
   "source": [
    "f1 = make_scorer(f1_score, average = \"weighted\")\n"
   ]
  },
  {
   "cell_type": "markdown",
   "id": "72c93b03",
   "metadata": {},
   "source": [
    "The most important configurable hyper-parameters for RandomForestClassifier() are the number of estimators (i.e., the number of trees that will detect the associations between data points) and their maximum depth - the number of levels with nodes where calculations happen. Another relevant hyper-parameter is the amount of samples per leaf, which indicates the bare minimum of samples necessary at a leaf node. A dictionary defines a range of values for each hyper-parameter. The number of folds for cross-validation is supplied to the searching algorithm."
   ]
  },
  {
   "cell_type": "code",
   "execution_count": null,
   "id": "a38257d3",
   "metadata": {},
   "outputs": [],
   "source": [
    "params = {\n",
    "    \"n_estimators\": [10, 15, 20, 25, 30, 35],\n",
    "    \"max_depth\": [5, 10, 15, 20, 25],\n",
    "    \"min_samples_leaf\": [1, 2, 3, 4, 5]\n",
    "}"
   ]
  },
  {
   "cell_type": "code",
   "execution_count": null,
   "id": "e5a85d27",
   "metadata": {},
   "outputs": [],
   "source": [
    "grid_search = GridSearchCV(RandomForestClassifier(), param_grid = params, scoring = f1, cv = 5)\n"
   ]
  },
  {
   "cell_type": "markdown",
   "id": "3f616596",
   "metadata": {},
   "source": [
    "The training data is passed to the instantiated search algorithm. It will be utilized to determine the hyper-parameter combination that produces the highest \"f1 score.\""
   ]
  },
  {
   "cell_type": "code",
   "execution_count": null,
   "id": "e3193288",
   "metadata": {},
   "outputs": [
    {
     "ename": "NameError",
     "evalue": "name 'train_features' is not defined",
     "output_type": "error",
     "traceback": [
      "\u001b[1;31m---------------------------------------------------------------------------\u001b[0m",
      "\u001b[1;31mNameError\u001b[0m                                 Traceback (most recent call last)",
      "Input \u001b[1;32mIn [81]\u001b[0m, in \u001b[0;36m<cell line: 1>\u001b[1;34m()\u001b[0m\n\u001b[1;32m----> 1\u001b[0m grid_search\u001b[38;5;241m.\u001b[39mfit(\u001b[43mtrain_features\u001b[49m, train_labels)\n",
      "\u001b[1;31mNameError\u001b[0m: name 'train_features' is not defined"
     ]
    }
   ],
   "source": [
    "grid_search.fit(train_features, train_labels)\n"
   ]
  },
  {
   "cell_type": "code",
   "execution_count": null,
   "id": "64bea861",
   "metadata": {},
   "outputs": [
    {
     "ename": "AttributeError",
     "evalue": "'GridSearchCV' object has no attribute 'best_params_'",
     "output_type": "error",
     "traceback": [
      "\u001b[1;31m---------------------------------------------------------------------------\u001b[0m",
      "\u001b[1;31mAttributeError\u001b[0m                            Traceback (most recent call last)",
      "Input \u001b[1;32mIn [82]\u001b[0m, in \u001b[0;36m<cell line: 1>\u001b[1;34m()\u001b[0m\n\u001b[1;32m----> 1\u001b[0m \u001b[43mgrid_search\u001b[49m\u001b[38;5;241;43m.\u001b[39;49m\u001b[43mbest_params_\u001b[49m\n",
      "\u001b[1;31mAttributeError\u001b[0m: 'GridSearchCV' object has no attribute 'best_params_'"
     ]
    }
   ],
   "source": [
    "grid_search.best_params_"
   ]
  },
  {
   "cell_type": "markdown",
   "id": "7fde045f",
   "metadata": {},
   "source": [
    "The best performing model is 35 trees, each with 15 nodes and 4 samples per leaf. The classifier determines these values."
   ]
  },
  {
   "cell_type": "code",
   "execution_count": null,
   "id": "6bdebae5",
   "metadata": {},
   "outputs": [],
   "source": [
    "model = RandomForestClassifier(n_estimators = 35, max_depth = 15, min_samples_leaf = 4)\n"
   ]
  },
  {
   "cell_type": "code",
   "execution_count": null,
   "id": "66e6e6a6",
   "metadata": {},
   "outputs": [
    {
     "ename": "NameError",
     "evalue": "name 'train_features' is not defined",
     "output_type": "error",
     "traceback": [
      "\u001b[1;31m---------------------------------------------------------------------------\u001b[0m",
      "\u001b[1;31mNameError\u001b[0m                                 Traceback (most recent call last)",
      "Input \u001b[1;32mIn [84]\u001b[0m, in \u001b[0;36m<cell line: 1>\u001b[1;34m()\u001b[0m\n\u001b[1;32m----> 1\u001b[0m model\u001b[38;5;241m.\u001b[39mfit(\u001b[43mtrain_features\u001b[49m, train_labels)\n",
      "\u001b[1;31mNameError\u001b[0m: name 'train_features' is not defined"
     ]
    }
   ],
   "source": [
    "model.fit(train_features, train_labels)\n"
   ]
  },
  {
   "cell_type": "markdown",
   "id": "8cb63fae",
   "metadata": {},
   "source": [
    "# VII. Model Performance"
   ]
  },
  {
   "cell_type": "markdown",
   "id": "0234e708",
   "metadata": {},
   "source": [
    "# VII.1. Accuracy and f1 score"
   ]
  },
  {
   "cell_type": "markdown",
   "id": "2739d1d5",
   "metadata": {},
   "source": [
    "All computations related to the classification process are wrapped in a function to save space and time. It predicts labels and measures model performance using \"accuracy\" and \"f1 score.\""
   ]
  },
  {
   "cell_type": "code",
   "execution_count": null,
   "id": "11a4b38f",
   "metadata": {},
   "outputs": [],
   "source": [
    "def classification_task(estimator, features, labels):\n",
    "    \"\"\"\n",
    "    Evaluates classification by predicting (\"predict\") and evaluation (\"score\") of the modelling alogirthm.\n",
    "    \n",
    "    Arguments: \n",
    "        Estimator, features (X) and labels (y).\n",
    "    \n",
    "    Returns: \n",
    "        Model's performance measured in terms of accuracy and f1_score.\n",
    "    \"\"\"\n",
    "    predictions = estimator.predict(features)\n",
    "    \n",
    "    print(f\"Accuracy: {accuracy_score(labels, predictions)}\")\n",
    "    print(f\"F1 score: {f1_score(labels, predictions, average = 'weighted')}\")"
   ]
  },
  {
   "cell_type": "code",
   "execution_count": null,
   "id": "c2b5fa7f",
   "metadata": {},
   "outputs": [
    {
     "ename": "NameError",
     "evalue": "name 'train_features' is not defined",
     "output_type": "error",
     "traceback": [
      "\u001b[1;31m---------------------------------------------------------------------------\u001b[0m",
      "\u001b[1;31mNameError\u001b[0m                                 Traceback (most recent call last)",
      "Input \u001b[1;32mIn [86]\u001b[0m, in \u001b[0;36m<cell line: 1>\u001b[1;34m()\u001b[0m\n\u001b[1;32m----> 1\u001b[0m classification_task(model, \u001b[43mtrain_features\u001b[49m, train_labels)\n",
      "\u001b[1;31mNameError\u001b[0m: name 'train_features' is not defined"
     ]
    }
   ],
   "source": [
    "classification_task(model, train_features, train_labels)\n"
   ]
  },
  {
   "cell_type": "code",
   "execution_count": null,
   "id": "a8309c4a",
   "metadata": {},
   "outputs": [
    {
     "ename": "NameError",
     "evalue": "name 'val_features' is not defined",
     "output_type": "error",
     "traceback": [
      "\u001b[1;31m---------------------------------------------------------------------------\u001b[0m",
      "\u001b[1;31mNameError\u001b[0m                                 Traceback (most recent call last)",
      "Input \u001b[1;32mIn [87]\u001b[0m, in \u001b[0;36m<cell line: 1>\u001b[1;34m()\u001b[0m\n\u001b[1;32m----> 1\u001b[0m classification_task(model, \u001b[43mval_features\u001b[49m, val_labels)\n",
      "\u001b[1;31mNameError\u001b[0m: name 'val_features' is not defined"
     ]
    }
   ],
   "source": [
    "classification_task(model, val_features, val_labels)\n"
   ]
  },
  {
   "cell_type": "code",
   "execution_count": null,
   "id": "92805f8c",
   "metadata": {},
   "outputs": [
    {
     "ename": "NameError",
     "evalue": "name 'test_features' is not defined",
     "output_type": "error",
     "traceback": [
      "\u001b[1;31m---------------------------------------------------------------------------\u001b[0m",
      "\u001b[1;31mNameError\u001b[0m                                 Traceback (most recent call last)",
      "Input \u001b[1;32mIn [88]\u001b[0m, in \u001b[0;36m<cell line: 1>\u001b[1;34m()\u001b[0m\n\u001b[1;32m----> 1\u001b[0m classification_task(model, \u001b[43mtest_features\u001b[49m, test_labels)\n",
      "\u001b[1;31mNameError\u001b[0m: name 'test_features' is not defined"
     ]
    }
   ],
   "source": [
    "classification_task(model, test_features, test_labels)\n"
   ]
  },
  {
   "cell_type": "markdown",
   "id": "7a190abb",
   "metadata": {},
   "source": [
    "The model achieves 80% \"accuracy\" and \"f1 score\" on train data but only around 56% on validation and test samples, which is a poor performance."
   ]
  },
  {
   "cell_type": "markdown",
   "id": "53c3d740",
   "metadata": {},
   "source": [
    "# VII.2. Classification report"
   ]
  },
  {
   "cell_type": "markdown",
   "id": "b2c8a6f5",
   "metadata": {},
   "source": [
    "For each class, the classification report displays the \"precision,\" \"recall,\" and \"f1\" scores. As can be seen, the model does poorly at guessing the label of rock and alternative songs but excels at classical music."
   ]
  },
  {
   "cell_type": "code",
   "execution_count": null,
   "id": "9ab91361",
   "metadata": {},
   "outputs": [
    {
     "ename": "NameError",
     "evalue": "name 'test_labels' is not defined",
     "output_type": "error",
     "traceback": [
      "\u001b[1;31m---------------------------------------------------------------------------\u001b[0m",
      "\u001b[1;31mNameError\u001b[0m                                 Traceback (most recent call last)",
      "Input \u001b[1;32mIn [89]\u001b[0m, in \u001b[0;36m<cell line: 1>\u001b[1;34m()\u001b[0m\n\u001b[1;32m----> 1\u001b[0m \u001b[38;5;28mprint\u001b[39m(classification_report(\u001b[43mtest_labels\u001b[49m, model\u001b[38;5;241m.\u001b[39mpredict(test_features)))\n",
      "\u001b[1;31mNameError\u001b[0m: name 'test_labels' is not defined"
     ]
    }
   ],
   "source": [
    "print(classification_report(test_labels, model.predict(test_features)))\n"
   ]
  },
  {
   "cell_type": "markdown",
   "id": "1588a56e",
   "metadata": {},
   "source": [
    "# VII.3. Confusion matrix"
   ]
  },
  {
   "cell_type": "markdown",
   "id": "d85f4270",
   "metadata": {},
   "source": [
    "The confusion matrix displays the number of correctly and incorrectly identified samples. The lines of code below load it. Following that, the results are interpreted."
   ]
  },
  {
   "cell_type": "code",
   "execution_count": null,
   "id": "584f2ecb",
   "metadata": {},
   "outputs": [
    {
     "ename": "NameError",
     "evalue": "name 'test_labels' is not defined",
     "output_type": "error",
     "traceback": [
      "\u001b[1;31m---------------------------------------------------------------------------\u001b[0m",
      "\u001b[1;31mNameError\u001b[0m                                 Traceback (most recent call last)",
      "Input \u001b[1;32mIn [90]\u001b[0m, in \u001b[0;36m<cell line: 2>\u001b[1;34m()\u001b[0m\n\u001b[0;32m      1\u001b[0m plt\u001b[38;5;241m.\u001b[39mfigure(figsize \u001b[38;5;241m=\u001b[39m (\u001b[38;5;241m8\u001b[39m, \u001b[38;5;241m6\u001b[39m))\n\u001b[1;32m----> 2\u001b[0m sns\u001b[38;5;241m.\u001b[39mheatmap(confusion_matrix(\u001b[43mtest_labels\u001b[49m, model\u001b[38;5;241m.\u001b[39mpredict(test_features)),\n\u001b[0;32m      3\u001b[0m     annot \u001b[38;5;241m=\u001b[39m \u001b[38;5;28;01mTrue\u001b[39;00m,\n\u001b[0;32m      4\u001b[0m     fmt \u001b[38;5;241m=\u001b[39m \u001b[38;5;124m\"\u001b[39m\u001b[38;5;124m.0f\u001b[39m\u001b[38;5;124m\"\u001b[39m,\n\u001b[0;32m      5\u001b[0m     cmap \u001b[38;5;241m=\u001b[39m \u001b[38;5;124m\"\u001b[39m\u001b[38;5;124mvlag\u001b[39m\u001b[38;5;124m\"\u001b[39m,\n\u001b[0;32m      6\u001b[0m     linewidths \u001b[38;5;241m=\u001b[39m \u001b[38;5;241m2\u001b[39m,\n\u001b[0;32m      7\u001b[0m     linecolor \u001b[38;5;241m=\u001b[39m \u001b[38;5;124m\"\u001b[39m\u001b[38;5;124mred\u001b[39m\u001b[38;5;124m\"\u001b[39m,\n\u001b[0;32m      8\u001b[0m     xticklabels \u001b[38;5;241m=\u001b[39m model\u001b[38;5;241m.\u001b[39mclasses_,\n\u001b[0;32m      9\u001b[0m     yticklabels \u001b[38;5;241m=\u001b[39m model\u001b[38;5;241m.\u001b[39mclasses_)\n\u001b[0;32m     10\u001b[0m plt\u001b[38;5;241m.\u001b[39mtitle(\u001b[38;5;124m\"\u001b[39m\u001b[38;5;124mActual values\u001b[39m\u001b[38;5;124m\"\u001b[39m)\n\u001b[0;32m     11\u001b[0m plt\u001b[38;5;241m.\u001b[39mylabel(\u001b[38;5;124m\"\u001b[39m\u001b[38;5;124mPredicted values\u001b[39m\u001b[38;5;124m\"\u001b[39m)\n",
      "\u001b[1;31mNameError\u001b[0m: name 'test_labels' is not defined"
     ]
    },
    {
     "data": {
      "text/plain": [
       "<Figure size 576x432 with 0 Axes>"
      ]
     },
     "metadata": {},
     "output_type": "display_data"
    }
   ],
   "source": [
    "plt.figure(figsize = (8, 6))\n",
    "sns.heatmap(confusion_matrix(test_labels, model.predict(test_features)),\n",
    "    annot = True,\n",
    "    fmt = \".0f\",\n",
    "    cmap = \"vlag\",\n",
    "    linewidths = 2,\n",
    "    linecolor = \"red\",\n",
    "    xticklabels = model.classes_,\n",
    "    yticklabels = model.classes_)\n",
    "plt.title(\"Actual values\")\n",
    "plt.ylabel(\"Predicted values\")\n",
    "plt.tight_layout()\n",
    "plt.show()"
   ]
  },
  {
   "cell_type": "markdown",
   "id": "932f4200",
   "metadata": {},
   "source": [
    "Samples that have been correctly categorised are shown on the diagonal as red squares. True Positives (accurate predictions) were found to outnumber False Positives. Wrong guesses are found both below and above the diagonal. The 140 tracks' genre was correctly predicted as \"Alternative.\" Twelve were labeled \"Anime,\" twenty as \"Blues,\" and so on, but their true classification was \"Alternative.\" On the other hand, four songs labeled \"Alternative\" were actually \"Anime,\" six were \"Blues,\" and so on."
   ]
  },
  {
   "cell_type": "markdown",
   "id": "758c1237",
   "metadata": {},
   "source": [
    "# VII.4 Feature importance"
   ]
  },
  {
   "cell_type": "markdown",
   "id": "a339a90c",
   "metadata": {},
   "source": [
    "Tree-based methods compute feature significance, or the importance of each feature to model performance. It appears (see the output below) that popularity (feature No. 1), acousticness, and danceability were the most helpful in determining a song's genre."
   ]
  },
  {
   "cell_type": "code",
   "execution_count": null,
   "id": "57eb829c",
   "metadata": {},
   "outputs": [
    {
     "ename": "NotFittedError",
     "evalue": "This RandomForestClassifier instance is not fitted yet. Call 'fit' with appropriate arguments before using this estimator.",
     "output_type": "error",
     "traceback": [
      "\u001b[1;31m---------------------------------------------------------------------------\u001b[0m",
      "\u001b[1;31mNotFittedError\u001b[0m                            Traceback (most recent call last)",
      "Input \u001b[1;32mIn [91]\u001b[0m, in \u001b[0;36m<cell line: 1>\u001b[1;34m()\u001b[0m\n\u001b[1;32m----> 1\u001b[0m \u001b[43mmodel\u001b[49m\u001b[38;5;241;43m.\u001b[39;49m\u001b[43mfeature_importances_\u001b[49m\n",
      "File \u001b[1;32m~\\anaconda3\\lib\\site-packages\\sklearn\\ensemble\\_forest.py:631\u001b[0m, in \u001b[0;36mBaseForest.feature_importances_\u001b[1;34m(self)\u001b[0m\n\u001b[0;32m    610\u001b[0m \u001b[38;5;129m@property\u001b[39m\n\u001b[0;32m    611\u001b[0m \u001b[38;5;28;01mdef\u001b[39;00m \u001b[38;5;21mfeature_importances_\u001b[39m(\u001b[38;5;28mself\u001b[39m):\n\u001b[0;32m    612\u001b[0m     \u001b[38;5;124;03m\"\"\"\u001b[39;00m\n\u001b[0;32m    613\u001b[0m \u001b[38;5;124;03m    The impurity-based feature importances.\u001b[39;00m\n\u001b[0;32m    614\u001b[0m \n\u001b[1;32m   (...)\u001b[0m\n\u001b[0;32m    629\u001b[0m \u001b[38;5;124;03m        array of zeros.\u001b[39;00m\n\u001b[0;32m    630\u001b[0m \u001b[38;5;124;03m    \"\"\"\u001b[39;00m\n\u001b[1;32m--> 631\u001b[0m     \u001b[43mcheck_is_fitted\u001b[49m\u001b[43m(\u001b[49m\u001b[38;5;28;43mself\u001b[39;49m\u001b[43m)\u001b[49m\n\u001b[0;32m    633\u001b[0m     all_importances \u001b[38;5;241m=\u001b[39m Parallel(n_jobs\u001b[38;5;241m=\u001b[39m\u001b[38;5;28mself\u001b[39m\u001b[38;5;241m.\u001b[39mn_jobs, prefer\u001b[38;5;241m=\u001b[39m\u001b[38;5;124m\"\u001b[39m\u001b[38;5;124mthreads\u001b[39m\u001b[38;5;124m\"\u001b[39m)(\n\u001b[0;32m    634\u001b[0m         delayed(\u001b[38;5;28mgetattr\u001b[39m)(tree, \u001b[38;5;124m\"\u001b[39m\u001b[38;5;124mfeature_importances_\u001b[39m\u001b[38;5;124m\"\u001b[39m)\n\u001b[0;32m    635\u001b[0m         \u001b[38;5;28;01mfor\u001b[39;00m tree \u001b[38;5;129;01min\u001b[39;00m \u001b[38;5;28mself\u001b[39m\u001b[38;5;241m.\u001b[39mestimators_\n\u001b[0;32m    636\u001b[0m         \u001b[38;5;28;01mif\u001b[39;00m tree\u001b[38;5;241m.\u001b[39mtree_\u001b[38;5;241m.\u001b[39mnode_count \u001b[38;5;241m>\u001b[39m \u001b[38;5;241m1\u001b[39m\n\u001b[0;32m    637\u001b[0m     )\n\u001b[0;32m    639\u001b[0m     \u001b[38;5;28;01mif\u001b[39;00m \u001b[38;5;129;01mnot\u001b[39;00m all_importances:\n",
      "File \u001b[1;32m~\\anaconda3\\lib\\site-packages\\sklearn\\utils\\validation.py:1345\u001b[0m, in \u001b[0;36mcheck_is_fitted\u001b[1;34m(estimator, attributes, msg, all_or_any)\u001b[0m\n\u001b[0;32m   1340\u001b[0m     fitted \u001b[38;5;241m=\u001b[39m [\n\u001b[0;32m   1341\u001b[0m         v \u001b[38;5;28;01mfor\u001b[39;00m v \u001b[38;5;129;01min\u001b[39;00m \u001b[38;5;28mvars\u001b[39m(estimator) \u001b[38;5;28;01mif\u001b[39;00m v\u001b[38;5;241m.\u001b[39mendswith(\u001b[38;5;124m\"\u001b[39m\u001b[38;5;124m_\u001b[39m\u001b[38;5;124m\"\u001b[39m) \u001b[38;5;129;01mand\u001b[39;00m \u001b[38;5;129;01mnot\u001b[39;00m v\u001b[38;5;241m.\u001b[39mstartswith(\u001b[38;5;124m\"\u001b[39m\u001b[38;5;124m__\u001b[39m\u001b[38;5;124m\"\u001b[39m)\n\u001b[0;32m   1342\u001b[0m     ]\n\u001b[0;32m   1344\u001b[0m \u001b[38;5;28;01mif\u001b[39;00m \u001b[38;5;129;01mnot\u001b[39;00m fitted:\n\u001b[1;32m-> 1345\u001b[0m     \u001b[38;5;28;01mraise\u001b[39;00m NotFittedError(msg \u001b[38;5;241m%\u001b[39m {\u001b[38;5;124m\"\u001b[39m\u001b[38;5;124mname\u001b[39m\u001b[38;5;124m\"\u001b[39m: \u001b[38;5;28mtype\u001b[39m(estimator)\u001b[38;5;241m.\u001b[39m\u001b[38;5;18m__name__\u001b[39m})\n",
      "\u001b[1;31mNotFittedError\u001b[0m: This RandomForestClassifier instance is not fitted yet. Call 'fit' with appropriate arguments before using this estimator."
     ]
    }
   ],
   "source": [
    "model.feature_importances_"
   ]
  },
  {
   "cell_type": "markdown",
   "id": "bc025c1a",
   "metadata": {},
   "source": [
    "# VII.5. ROC curve"
   ]
  },
  {
   "cell_type": "markdown",
   "id": "709e76b7",
   "metadata": {},
   "source": [
    "The ROC curve is a prominent classification statistic (Receiver Operating Characteristic curve). It is a graph that depicts a classification model's performance across all categorization levels. The True Positive Rate and False Positive Rate are plotted on this graph. The likelihood that a random positive example is positioned to the right of a random negative example is represented by the Area Under the Curve (AUC). AUC values vary from 0 to 1. A model with 100% incorrect predictions has an AUC of 0.0; one with 100% correct predictions has an AUC of 1."
   ]
  },
  {
   "cell_type": "markdown",
   "id": "44272ec4",
   "metadata": {},
   "source": [
    "AUC and ROC curves necessitate the computation of probability prediction scores. These indicate the likelihood that a given sample belongs to a specific class."
   ]
  },
  {
   "cell_type": "code",
   "execution_count": null,
   "id": "d9692af5",
   "metadata": {},
   "outputs": [
    {
     "ename": "NameError",
     "evalue": "name 'test_features' is not defined",
     "output_type": "error",
     "traceback": [
      "\u001b[1;31m---------------------------------------------------------------------------\u001b[0m",
      "\u001b[1;31mNameError\u001b[0m                                 Traceback (most recent call last)",
      "Input \u001b[1;32mIn [92]\u001b[0m, in \u001b[0;36m<cell line: 1>\u001b[1;34m()\u001b[0m\n\u001b[1;32m----> 1\u001b[0m predicted_labels \u001b[38;5;241m=\u001b[39m model\u001b[38;5;241m.\u001b[39mpredict_proba(\u001b[43mtest_features\u001b[49m)\n",
      "\u001b[1;31mNameError\u001b[0m: name 'test_features' is not defined"
     ]
    }
   ],
   "source": [
    "predicted_labels = model.predict_proba(test_features)"
   ]
  },
  {
   "cell_type": "code",
   "execution_count": null,
   "id": "b061f9fe",
   "metadata": {},
   "outputs": [
    {
     "ename": "NameError",
     "evalue": "name 'test_labels' is not defined",
     "output_type": "error",
     "traceback": [
      "\u001b[1;31m---------------------------------------------------------------------------\u001b[0m",
      "\u001b[1;31mNameError\u001b[0m                                 Traceback (most recent call last)",
      "Input \u001b[1;32mIn [93]\u001b[0m, in \u001b[0;36m<cell line: 1>\u001b[1;34m()\u001b[0m\n\u001b[1;32m----> 1\u001b[0m roc_auc_score(\u001b[43mtest_labels\u001b[49m, predicted_labels, multi_class \u001b[38;5;241m=\u001b[39m \u001b[38;5;124m\"\u001b[39m\u001b[38;5;124movr\u001b[39m\u001b[38;5;124m\"\u001b[39m)\n",
      "\u001b[1;31mNameError\u001b[0m: name 'test_labels' is not defined"
     ]
    }
   ],
   "source": [
    "roc_auc_score(test_labels, predicted_labels, multi_class = \"ovr\")\n"
   ]
  },
  {
   "cell_type": "markdown",
   "id": "1752a897",
   "metadata": {},
   "source": [
    "AUC of 92% is a very respectable result. This demonstrates that many samples were correctly predicted. Curves in the upper-left corner indicate a high-performing model."
   ]
  },
  {
   "cell_type": "code",
   "execution_count": null,
   "id": "0fd1482f",
   "metadata": {},
   "outputs": [
    {
     "ename": "NameError",
     "evalue": "name 'test_labels' is not defined",
     "output_type": "error",
     "traceback": [
      "\u001b[1;31m---------------------------------------------------------------------------\u001b[0m",
      "\u001b[1;31mNameError\u001b[0m                                 Traceback (most recent call last)",
      "Input \u001b[1;32mIn [94]\u001b[0m, in \u001b[0;36m<cell line: 1>\u001b[1;34m()\u001b[0m\n\u001b[1;32m----> 1\u001b[0m skplt\u001b[38;5;241m.\u001b[39mmetrics\u001b[38;5;241m.\u001b[39mplot_roc(\u001b[43mtest_labels\u001b[49m, predicted_labels)\n\u001b[0;32m      2\u001b[0m plt\u001b[38;5;241m.\u001b[39mshow()\n",
      "\u001b[1;31mNameError\u001b[0m: name 'test_labels' is not defined"
     ]
    }
   ],
   "source": [
    "skplt.metrics.plot_roc(test_labels, predicted_labels)\n",
    "plt.show()"
   ]
  },
  {
   "cell_type": "code",
   "execution_count": null,
   "id": "bcb0dd8f",
   "metadata": {},
   "outputs": [],
   "source": []
  }
 ],
 "metadata": {
  "kernelspec": {
   "display_name": "Python 3 (ipykernel)",
   "language": "python",
   "name": "python3"
  },
  "language_info": {
   "codemirror_mode": {
    "name": "ipython",
    "version": 3
   },
   "file_extension": ".py",
   "mimetype": "text/x-python",
   "name": "python",
   "nbconvert_exporter": "python",
   "pygments_lexer": "ipython3",
   "version": "3.8.13"
  },
  "vscode": {
   "interpreter": {
    "hash": "244bedbdb3f491d3da577a441027261ef0920ec5dd5886d860665a9779790e15"
   }
  }
 },
 "nbformat": 4,
 "nbformat_minor": 5
}
